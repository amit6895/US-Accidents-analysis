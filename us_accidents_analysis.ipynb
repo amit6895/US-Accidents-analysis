{
  "cells": [
    {
      "cell_type": "code",
      "execution_count": 1,
      "metadata": {
        "colab": {
          "base_uri": "https://localhost:8080/"
        },
        "id": "9RuuXatjK8Qa",
        "outputId": "ad222907-4aee-4a38-c49e-7ededbf3f6e6"
      },
      "outputs": [
        {
          "output_type": "stream",
          "name": "stdout",
          "text": [
            "\u001b[?25l\r\u001b[K     |████▊                           | 10 kB 19.3 MB/s eta 0:00:01\r\u001b[K     |█████████▌                      | 20 kB 14.6 MB/s eta 0:00:01\r\u001b[K     |██████████████▎                 | 30 kB 10.2 MB/s eta 0:00:01\r\u001b[K     |███████████████████             | 40 kB 8.9 MB/s eta 0:00:01\r\u001b[K     |███████████████████████▉        | 51 kB 4.4 MB/s eta 0:00:01\r\u001b[K     |████████████████████████████▋   | 61 kB 5.1 MB/s eta 0:00:01\r\u001b[K     |████████████████████████████████| 68 kB 3.1 MB/s \n",
            "\u001b[?25h  Building wheel for uuid (setup.py) ... \u001b[?25l\u001b[?25hdone\n"
          ]
        }
      ],
      "source": [
        "# Jovian Commit Essentials\n",
        "# Please retain and execute this cell without modifying the contents for `jovian.commit` to work\n",
        "!pip install jovian --upgrade -q\n",
        "import jovian\n",
        "jovian.set_project('us-accidents-analysis')\n",
        "jovian.set_colab_id('1MRMnzT8Jj5MXt_4ikInusGeN48Uroa4w')"
      ]
    },
    {
      "cell_type": "markdown",
      "metadata": {
        "id": "WVL5oP6JK8Qk"
      },
      "source": [
        "# us-accidents-analysis\n",
        "\n",
        "Use the \"Run\" button to execute the code."
      ]
    },
    {
      "cell_type": "code",
      "execution_count": 2,
      "metadata": {
        "id": "Q0-vXy4eK8Qp"
      },
      "outputs": [],
      "source": [
        "!pip install jovian --upgrade --quiet"
      ]
    },
    {
      "cell_type": "code",
      "execution_count": 3,
      "metadata": {
        "id": "-WOBDdmeK8Qr"
      },
      "outputs": [],
      "source": [
        "import jovian"
      ]
    },
    {
      "cell_type": "code",
      "execution_count": 4,
      "metadata": {
        "colab": {
          "base_uri": "https://localhost:8080/",
          "height": 140
        },
        "id": "Xv-u95YWK8Qt",
        "outputId": "72aa29a9-ea42-449f-db16-27bd13b272e0"
      },
      "outputs": [
        {
          "output_type": "stream",
          "name": "stdout",
          "text": [
            "[jovian] Detected Colab notebook...\u001b[0m\n",
            "[jovian] Please enter your API key ( from https://jovian.ai/ ):\u001b[0m\n",
            "API KEY: ··········\n",
            "[jovian] Uploading colab notebook to Jovian...\u001b[0m\n"
          ]
        },
        {
          "output_type": "stream",
          "name": "stderr",
          "text": [
            "\u001b[31m[jovian] Error: Looks like the notebook is missing output cells, please save the notebook and try jovian.commit again.\u001b[0m\n"
          ]
        },
        {
          "output_type": "stream",
          "name": "stdout",
          "text": [
            "Committed successfully! https://jovian.ai/asvsav991/us-accidents-analysis\n"
          ]
        },
        {
          "output_type": "execute_result",
          "data": {
            "text/plain": [
              "'https://jovian.ai/asvsav991/us-accidents-analysis'"
            ],
            "application/vnd.google.colaboratory.intrinsic+json": {
              "type": "string"
            }
          },
          "metadata": {},
          "execution_count": 4
        }
      ],
      "source": [
        "# Execute this to save new versions of the notebook\n",
        "jovian.commit(project=\"us-accidents-analysis\")"
      ]
    },
    {
      "cell_type": "markdown",
      "source": [
        "#US Exploratary Data Analysis\n",
        "\n",
        "\n"
      ],
      "metadata": {
        "id": "mEMuP3v1MHgd"
      }
    },
    {
      "cell_type": "code",
      "source": [
        " pip install opendatasets --upgrade --quiet"
      ],
      "metadata": {
        "id": "tNGrgrrfMHCN"
      },
      "execution_count": 5,
      "outputs": []
    },
    {
      "cell_type": "code",
      "source": [
        "import opendatasets as od \n",
        "download_url='https://www.kaggle.com/datasets/sobhanmoosavi/us-accidents'\n",
        "\n",
        "od.download(download_url)"
      ],
      "metadata": {
        "colab": {
          "base_uri": "https://localhost:8080/"
        },
        "id": "PWHLLYOXMF8x",
        "outputId": "e699751f-774e-4d61-c313-d17e44809047"
      },
      "execution_count": 7,
      "outputs": [
        {
          "output_type": "stream",
          "name": "stdout",
          "text": [
            "Please provide your Kaggle credentials to download this dataset. Learn more: http://bit.ly/kaggle-creds\n",
            "Your Kaggle username: amitverma20\n",
            "Your Kaggle Key: ··········\n",
            "Downloading us-accidents.zip to ./us-accidents\n"
          ]
        },
        {
          "output_type": "stream",
          "name": "stderr",
          "text": [
            "100%|██████████| 269M/269M [00:02<00:00, 97.7MB/s]\n"
          ]
        },
        {
          "output_type": "stream",
          "name": "stdout",
          "text": [
            "\n"
          ]
        }
      ]
    },
    {
      "cell_type": "code",
      "execution_count": 8,
      "metadata": {
        "id": "ft-R8r72K8Qu"
      },
      "outputs": [],
      "source": [
        "data_filename='./us-accidents/US_Accidents_Dec21_updated.csv'"
      ]
    },
    {
      "cell_type": "markdown",
      "source": [
        "## Data Preparation and Cleaning"
      ],
      "metadata": {
        "id": "tnEUESmsRDqs"
      }
    },
    {
      "cell_type": "code",
      "source": [
        "import pandas as pd\n",
        "import matplotlib.pyplot as plt\n"
      ],
      "metadata": {
        "id": "ac-IpadAQ5WP"
      },
      "execution_count": 50,
      "outputs": []
    },
    {
      "cell_type": "code",
      "source": [
        "df=pd.read_csv(data_filename)"
      ],
      "metadata": {
        "id": "4RC8jAfwRguX"
      },
      "execution_count": 10,
      "outputs": []
    },
    {
      "cell_type": "code",
      "source": [
        "df"
      ],
      "metadata": {
        "colab": {
          "base_uri": "https://localhost:8080/",
          "height": 939
        },
        "id": "78l_O9BZRrf9",
        "outputId": "49606d0b-4b19-49f3-cc5d-5c1b7e72320c"
      },
      "execution_count": 11,
      "outputs": [
        {
          "output_type": "execute_result",
          "data": {
            "text/plain": [
              "                ID  Severity           Start_Time             End_Time  \\\n",
              "0              A-1         3  2016-02-08 00:37:08  2016-02-08 06:37:08   \n",
              "1              A-2         2  2016-02-08 05:56:20  2016-02-08 11:56:20   \n",
              "2              A-3         2  2016-02-08 06:15:39  2016-02-08 12:15:39   \n",
              "3              A-4         2  2016-02-08 06:51:45  2016-02-08 12:51:45   \n",
              "4              A-5         3  2016-02-08 07:53:43  2016-02-08 13:53:43   \n",
              "...            ...       ...                  ...                  ...   \n",
              "2845337  A-2845338         2  2019-08-23 18:03:25  2019-08-23 18:32:01   \n",
              "2845338  A-2845339         2  2019-08-23 19:11:30  2019-08-23 19:38:23   \n",
              "2845339  A-2845340         2  2019-08-23 19:00:21  2019-08-23 19:28:49   \n",
              "2845340  A-2845341         2  2019-08-23 19:00:21  2019-08-23 19:29:42   \n",
              "2845341  A-2845342         2  2019-08-23 18:52:06  2019-08-23 19:21:31   \n",
              "\n",
              "         Start_Lat   Start_Lng    End_Lat     End_Lng  Distance(mi)  \\\n",
              "0        40.108910  -83.092860  40.112060  -83.031870         3.230   \n",
              "1        39.865420  -84.062800  39.865010  -84.048730         0.747   \n",
              "2        39.102660  -84.524680  39.102090  -84.523960         0.055   \n",
              "3        41.062130  -81.537840  41.062170  -81.535470         0.123   \n",
              "4        39.172393  -84.492792  39.170476  -84.501798         0.500   \n",
              "...            ...         ...        ...         ...           ...   \n",
              "2845337  34.002480 -117.379360  33.998880 -117.370940         0.543   \n",
              "2845338  32.766960 -117.148060  32.765550 -117.153630         0.338   \n",
              "2845339  33.775450 -117.847790  33.777400 -117.857270         0.561   \n",
              "2845340  33.992460 -118.403020  33.983110 -118.395650         0.772   \n",
              "2845341  34.133930 -117.230920  34.137360 -117.239340         0.537   \n",
              "\n",
              "                                               Description  ...  Roundabout  \\\n",
              "0        Between Sawmill Rd/Exit 20 and OH-315/Olentang...  ...       False   \n",
              "1                       At OH-4/OH-235/Exit 41 - Accident.  ...       False   \n",
              "2                         At I-71/US-50/Exit 1 - Accident.  ...       False   \n",
              "3                          At Dart Ave/Exit 21 - Accident.  ...       False   \n",
              "4                       At Mitchell Ave/Exit 6 - Accident.  ...       False   \n",
              "...                                                    ...  ...         ...   \n",
              "2845337                           At Market St - Accident.  ...       False   \n",
              "2845338    At Camino Del Rio/Mission Center Rd - Accident.  ...       False   \n",
              "2845339  At Glassell St/Grand Ave - Accident. in the ri...  ...       False   \n",
              "2845340     At CA-90/Marina Fwy/Jefferson Blvd - Accident.  ...       False   \n",
              "2845341              At Highland Ave/Arden Ave - Accident.  ...       False   \n",
              "\n",
              "        Station   Stop Traffic_Calming Traffic_Signal Turning_Loop  \\\n",
              "0         False  False           False          False        False   \n",
              "1         False  False           False          False        False   \n",
              "2         False  False           False          False        False   \n",
              "3         False  False           False          False        False   \n",
              "4         False  False           False          False        False   \n",
              "...         ...    ...             ...            ...          ...   \n",
              "2845337   False  False           False          False        False   \n",
              "2845338   False  False           False          False        False   \n",
              "2845339   False  False           False          False        False   \n",
              "2845340   False  False           False          False        False   \n",
              "2845341   False  False           False          False        False   \n",
              "\n",
              "        Sunrise_Sunset Civil_Twilight Nautical_Twilight Astronomical_Twilight  \n",
              "0                Night          Night             Night                 Night  \n",
              "1                Night          Night             Night                 Night  \n",
              "2                Night          Night             Night                   Day  \n",
              "3                Night          Night               Day                   Day  \n",
              "4                  Day            Day               Day                   Day  \n",
              "...                ...            ...               ...                   ...  \n",
              "2845337            Day            Day               Day                   Day  \n",
              "2845338            Day            Day               Day                   Day  \n",
              "2845339            Day            Day               Day                   Day  \n",
              "2845340            Day            Day               Day                   Day  \n",
              "2845341            Day            Day               Day                   Day  \n",
              "\n",
              "[2845342 rows x 47 columns]"
            ],
            "text/html": [
              "\n",
              "  <div id=\"df-d9f58bfc-1385-4190-8a6e-d414ee5cc5db\">\n",
              "    <div class=\"colab-df-container\">\n",
              "      <div>\n",
              "<style scoped>\n",
              "    .dataframe tbody tr th:only-of-type {\n",
              "        vertical-align: middle;\n",
              "    }\n",
              "\n",
              "    .dataframe tbody tr th {\n",
              "        vertical-align: top;\n",
              "    }\n",
              "\n",
              "    .dataframe thead th {\n",
              "        text-align: right;\n",
              "    }\n",
              "</style>\n",
              "<table border=\"1\" class=\"dataframe\">\n",
              "  <thead>\n",
              "    <tr style=\"text-align: right;\">\n",
              "      <th></th>\n",
              "      <th>ID</th>\n",
              "      <th>Severity</th>\n",
              "      <th>Start_Time</th>\n",
              "      <th>End_Time</th>\n",
              "      <th>Start_Lat</th>\n",
              "      <th>Start_Lng</th>\n",
              "      <th>End_Lat</th>\n",
              "      <th>End_Lng</th>\n",
              "      <th>Distance(mi)</th>\n",
              "      <th>Description</th>\n",
              "      <th>...</th>\n",
              "      <th>Roundabout</th>\n",
              "      <th>Station</th>\n",
              "      <th>Stop</th>\n",
              "      <th>Traffic_Calming</th>\n",
              "      <th>Traffic_Signal</th>\n",
              "      <th>Turning_Loop</th>\n",
              "      <th>Sunrise_Sunset</th>\n",
              "      <th>Civil_Twilight</th>\n",
              "      <th>Nautical_Twilight</th>\n",
              "      <th>Astronomical_Twilight</th>\n",
              "    </tr>\n",
              "  </thead>\n",
              "  <tbody>\n",
              "    <tr>\n",
              "      <th>0</th>\n",
              "      <td>A-1</td>\n",
              "      <td>3</td>\n",
              "      <td>2016-02-08 00:37:08</td>\n",
              "      <td>2016-02-08 06:37:08</td>\n",
              "      <td>40.108910</td>\n",
              "      <td>-83.092860</td>\n",
              "      <td>40.112060</td>\n",
              "      <td>-83.031870</td>\n",
              "      <td>3.230</td>\n",
              "      <td>Between Sawmill Rd/Exit 20 and OH-315/Olentang...</td>\n",
              "      <td>...</td>\n",
              "      <td>False</td>\n",
              "      <td>False</td>\n",
              "      <td>False</td>\n",
              "      <td>False</td>\n",
              "      <td>False</td>\n",
              "      <td>False</td>\n",
              "      <td>Night</td>\n",
              "      <td>Night</td>\n",
              "      <td>Night</td>\n",
              "      <td>Night</td>\n",
              "    </tr>\n",
              "    <tr>\n",
              "      <th>1</th>\n",
              "      <td>A-2</td>\n",
              "      <td>2</td>\n",
              "      <td>2016-02-08 05:56:20</td>\n",
              "      <td>2016-02-08 11:56:20</td>\n",
              "      <td>39.865420</td>\n",
              "      <td>-84.062800</td>\n",
              "      <td>39.865010</td>\n",
              "      <td>-84.048730</td>\n",
              "      <td>0.747</td>\n",
              "      <td>At OH-4/OH-235/Exit 41 - Accident.</td>\n",
              "      <td>...</td>\n",
              "      <td>False</td>\n",
              "      <td>False</td>\n",
              "      <td>False</td>\n",
              "      <td>False</td>\n",
              "      <td>False</td>\n",
              "      <td>False</td>\n",
              "      <td>Night</td>\n",
              "      <td>Night</td>\n",
              "      <td>Night</td>\n",
              "      <td>Night</td>\n",
              "    </tr>\n",
              "    <tr>\n",
              "      <th>2</th>\n",
              "      <td>A-3</td>\n",
              "      <td>2</td>\n",
              "      <td>2016-02-08 06:15:39</td>\n",
              "      <td>2016-02-08 12:15:39</td>\n",
              "      <td>39.102660</td>\n",
              "      <td>-84.524680</td>\n",
              "      <td>39.102090</td>\n",
              "      <td>-84.523960</td>\n",
              "      <td>0.055</td>\n",
              "      <td>At I-71/US-50/Exit 1 - Accident.</td>\n",
              "      <td>...</td>\n",
              "      <td>False</td>\n",
              "      <td>False</td>\n",
              "      <td>False</td>\n",
              "      <td>False</td>\n",
              "      <td>False</td>\n",
              "      <td>False</td>\n",
              "      <td>Night</td>\n",
              "      <td>Night</td>\n",
              "      <td>Night</td>\n",
              "      <td>Day</td>\n",
              "    </tr>\n",
              "    <tr>\n",
              "      <th>3</th>\n",
              "      <td>A-4</td>\n",
              "      <td>2</td>\n",
              "      <td>2016-02-08 06:51:45</td>\n",
              "      <td>2016-02-08 12:51:45</td>\n",
              "      <td>41.062130</td>\n",
              "      <td>-81.537840</td>\n",
              "      <td>41.062170</td>\n",
              "      <td>-81.535470</td>\n",
              "      <td>0.123</td>\n",
              "      <td>At Dart Ave/Exit 21 - Accident.</td>\n",
              "      <td>...</td>\n",
              "      <td>False</td>\n",
              "      <td>False</td>\n",
              "      <td>False</td>\n",
              "      <td>False</td>\n",
              "      <td>False</td>\n",
              "      <td>False</td>\n",
              "      <td>Night</td>\n",
              "      <td>Night</td>\n",
              "      <td>Day</td>\n",
              "      <td>Day</td>\n",
              "    </tr>\n",
              "    <tr>\n",
              "      <th>4</th>\n",
              "      <td>A-5</td>\n",
              "      <td>3</td>\n",
              "      <td>2016-02-08 07:53:43</td>\n",
              "      <td>2016-02-08 13:53:43</td>\n",
              "      <td>39.172393</td>\n",
              "      <td>-84.492792</td>\n",
              "      <td>39.170476</td>\n",
              "      <td>-84.501798</td>\n",
              "      <td>0.500</td>\n",
              "      <td>At Mitchell Ave/Exit 6 - Accident.</td>\n",
              "      <td>...</td>\n",
              "      <td>False</td>\n",
              "      <td>False</td>\n",
              "      <td>False</td>\n",
              "      <td>False</td>\n",
              "      <td>False</td>\n",
              "      <td>False</td>\n",
              "      <td>Day</td>\n",
              "      <td>Day</td>\n",
              "      <td>Day</td>\n",
              "      <td>Day</td>\n",
              "    </tr>\n",
              "    <tr>\n",
              "      <th>...</th>\n",
              "      <td>...</td>\n",
              "      <td>...</td>\n",
              "      <td>...</td>\n",
              "      <td>...</td>\n",
              "      <td>...</td>\n",
              "      <td>...</td>\n",
              "      <td>...</td>\n",
              "      <td>...</td>\n",
              "      <td>...</td>\n",
              "      <td>...</td>\n",
              "      <td>...</td>\n",
              "      <td>...</td>\n",
              "      <td>...</td>\n",
              "      <td>...</td>\n",
              "      <td>...</td>\n",
              "      <td>...</td>\n",
              "      <td>...</td>\n",
              "      <td>...</td>\n",
              "      <td>...</td>\n",
              "      <td>...</td>\n",
              "      <td>...</td>\n",
              "    </tr>\n",
              "    <tr>\n",
              "      <th>2845337</th>\n",
              "      <td>A-2845338</td>\n",
              "      <td>2</td>\n",
              "      <td>2019-08-23 18:03:25</td>\n",
              "      <td>2019-08-23 18:32:01</td>\n",
              "      <td>34.002480</td>\n",
              "      <td>-117.379360</td>\n",
              "      <td>33.998880</td>\n",
              "      <td>-117.370940</td>\n",
              "      <td>0.543</td>\n",
              "      <td>At Market St - Accident.</td>\n",
              "      <td>...</td>\n",
              "      <td>False</td>\n",
              "      <td>False</td>\n",
              "      <td>False</td>\n",
              "      <td>False</td>\n",
              "      <td>False</td>\n",
              "      <td>False</td>\n",
              "      <td>Day</td>\n",
              "      <td>Day</td>\n",
              "      <td>Day</td>\n",
              "      <td>Day</td>\n",
              "    </tr>\n",
              "    <tr>\n",
              "      <th>2845338</th>\n",
              "      <td>A-2845339</td>\n",
              "      <td>2</td>\n",
              "      <td>2019-08-23 19:11:30</td>\n",
              "      <td>2019-08-23 19:38:23</td>\n",
              "      <td>32.766960</td>\n",
              "      <td>-117.148060</td>\n",
              "      <td>32.765550</td>\n",
              "      <td>-117.153630</td>\n",
              "      <td>0.338</td>\n",
              "      <td>At Camino Del Rio/Mission Center Rd - Accident.</td>\n",
              "      <td>...</td>\n",
              "      <td>False</td>\n",
              "      <td>False</td>\n",
              "      <td>False</td>\n",
              "      <td>False</td>\n",
              "      <td>False</td>\n",
              "      <td>False</td>\n",
              "      <td>Day</td>\n",
              "      <td>Day</td>\n",
              "      <td>Day</td>\n",
              "      <td>Day</td>\n",
              "    </tr>\n",
              "    <tr>\n",
              "      <th>2845339</th>\n",
              "      <td>A-2845340</td>\n",
              "      <td>2</td>\n",
              "      <td>2019-08-23 19:00:21</td>\n",
              "      <td>2019-08-23 19:28:49</td>\n",
              "      <td>33.775450</td>\n",
              "      <td>-117.847790</td>\n",
              "      <td>33.777400</td>\n",
              "      <td>-117.857270</td>\n",
              "      <td>0.561</td>\n",
              "      <td>At Glassell St/Grand Ave - Accident. in the ri...</td>\n",
              "      <td>...</td>\n",
              "      <td>False</td>\n",
              "      <td>False</td>\n",
              "      <td>False</td>\n",
              "      <td>False</td>\n",
              "      <td>False</td>\n",
              "      <td>False</td>\n",
              "      <td>Day</td>\n",
              "      <td>Day</td>\n",
              "      <td>Day</td>\n",
              "      <td>Day</td>\n",
              "    </tr>\n",
              "    <tr>\n",
              "      <th>2845340</th>\n",
              "      <td>A-2845341</td>\n",
              "      <td>2</td>\n",
              "      <td>2019-08-23 19:00:21</td>\n",
              "      <td>2019-08-23 19:29:42</td>\n",
              "      <td>33.992460</td>\n",
              "      <td>-118.403020</td>\n",
              "      <td>33.983110</td>\n",
              "      <td>-118.395650</td>\n",
              "      <td>0.772</td>\n",
              "      <td>At CA-90/Marina Fwy/Jefferson Blvd - Accident.</td>\n",
              "      <td>...</td>\n",
              "      <td>False</td>\n",
              "      <td>False</td>\n",
              "      <td>False</td>\n",
              "      <td>False</td>\n",
              "      <td>False</td>\n",
              "      <td>False</td>\n",
              "      <td>Day</td>\n",
              "      <td>Day</td>\n",
              "      <td>Day</td>\n",
              "      <td>Day</td>\n",
              "    </tr>\n",
              "    <tr>\n",
              "      <th>2845341</th>\n",
              "      <td>A-2845342</td>\n",
              "      <td>2</td>\n",
              "      <td>2019-08-23 18:52:06</td>\n",
              "      <td>2019-08-23 19:21:31</td>\n",
              "      <td>34.133930</td>\n",
              "      <td>-117.230920</td>\n",
              "      <td>34.137360</td>\n",
              "      <td>-117.239340</td>\n",
              "      <td>0.537</td>\n",
              "      <td>At Highland Ave/Arden Ave - Accident.</td>\n",
              "      <td>...</td>\n",
              "      <td>False</td>\n",
              "      <td>False</td>\n",
              "      <td>False</td>\n",
              "      <td>False</td>\n",
              "      <td>False</td>\n",
              "      <td>False</td>\n",
              "      <td>Day</td>\n",
              "      <td>Day</td>\n",
              "      <td>Day</td>\n",
              "      <td>Day</td>\n",
              "    </tr>\n",
              "  </tbody>\n",
              "</table>\n",
              "<p>2845342 rows × 47 columns</p>\n",
              "</div>\n",
              "      <button class=\"colab-df-convert\" onclick=\"convertToInteractive('df-d9f58bfc-1385-4190-8a6e-d414ee5cc5db')\"\n",
              "              title=\"Convert this dataframe to an interactive table.\"\n",
              "              style=\"display:none;\">\n",
              "        \n",
              "  <svg xmlns=\"http://www.w3.org/2000/svg\" height=\"24px\"viewBox=\"0 0 24 24\"\n",
              "       width=\"24px\">\n",
              "    <path d=\"M0 0h24v24H0V0z\" fill=\"none\"/>\n",
              "    <path d=\"M18.56 5.44l.94 2.06.94-2.06 2.06-.94-2.06-.94-.94-2.06-.94 2.06-2.06.94zm-11 1L8.5 8.5l.94-2.06 2.06-.94-2.06-.94L8.5 2.5l-.94 2.06-2.06.94zm10 10l.94 2.06.94-2.06 2.06-.94-2.06-.94-.94-2.06-.94 2.06-2.06.94z\"/><path d=\"M17.41 7.96l-1.37-1.37c-.4-.4-.92-.59-1.43-.59-.52 0-1.04.2-1.43.59L10.3 9.45l-7.72 7.72c-.78.78-.78 2.05 0 2.83L4 21.41c.39.39.9.59 1.41.59.51 0 1.02-.2 1.41-.59l7.78-7.78 2.81-2.81c.8-.78.8-2.07 0-2.86zM5.41 20L4 18.59l7.72-7.72 1.47 1.35L5.41 20z\"/>\n",
              "  </svg>\n",
              "      </button>\n",
              "      \n",
              "  <style>\n",
              "    .colab-df-container {\n",
              "      display:flex;\n",
              "      flex-wrap:wrap;\n",
              "      gap: 12px;\n",
              "    }\n",
              "\n",
              "    .colab-df-convert {\n",
              "      background-color: #E8F0FE;\n",
              "      border: none;\n",
              "      border-radius: 50%;\n",
              "      cursor: pointer;\n",
              "      display: none;\n",
              "      fill: #1967D2;\n",
              "      height: 32px;\n",
              "      padding: 0 0 0 0;\n",
              "      width: 32px;\n",
              "    }\n",
              "\n",
              "    .colab-df-convert:hover {\n",
              "      background-color: #E2EBFA;\n",
              "      box-shadow: 0px 1px 2px rgba(60, 64, 67, 0.3), 0px 1px 3px 1px rgba(60, 64, 67, 0.15);\n",
              "      fill: #174EA6;\n",
              "    }\n",
              "\n",
              "    [theme=dark] .colab-df-convert {\n",
              "      background-color: #3B4455;\n",
              "      fill: #D2E3FC;\n",
              "    }\n",
              "\n",
              "    [theme=dark] .colab-df-convert:hover {\n",
              "      background-color: #434B5C;\n",
              "      box-shadow: 0px 1px 3px 1px rgba(0, 0, 0, 0.15);\n",
              "      filter: drop-shadow(0px 1px 2px rgba(0, 0, 0, 0.3));\n",
              "      fill: #FFFFFF;\n",
              "    }\n",
              "  </style>\n",
              "\n",
              "      <script>\n",
              "        const buttonEl =\n",
              "          document.querySelector('#df-d9f58bfc-1385-4190-8a6e-d414ee5cc5db button.colab-df-convert');\n",
              "        buttonEl.style.display =\n",
              "          google.colab.kernel.accessAllowed ? 'block' : 'none';\n",
              "\n",
              "        async function convertToInteractive(key) {\n",
              "          const element = document.querySelector('#df-d9f58bfc-1385-4190-8a6e-d414ee5cc5db');\n",
              "          const dataTable =\n",
              "            await google.colab.kernel.invokeFunction('convertToInteractive',\n",
              "                                                     [key], {});\n",
              "          if (!dataTable) return;\n",
              "\n",
              "          const docLinkHtml = 'Like what you see? Visit the ' +\n",
              "            '<a target=\"_blank\" href=https://colab.research.google.com/notebooks/data_table.ipynb>data table notebook</a>'\n",
              "            + ' to learn more about interactive tables.';\n",
              "          element.innerHTML = '';\n",
              "          dataTable['output_type'] = 'display_data';\n",
              "          await google.colab.output.renderOutput(dataTable, element);\n",
              "          const docLink = document.createElement('div');\n",
              "          docLink.innerHTML = docLinkHtml;\n",
              "          element.appendChild(docLink);\n",
              "        }\n",
              "      </script>\n",
              "    </div>\n",
              "  </div>\n",
              "  "
            ]
          },
          "metadata": {},
          "execution_count": 11
        }
      ]
    },
    {
      "cell_type": "code",
      "source": [
        "df.info()"
      ],
      "metadata": {
        "colab": {
          "base_uri": "https://localhost:8080/"
        },
        "id": "wKNNK1nbSqap",
        "outputId": "2023c81d-200b-4910-d1fe-4cdfaeab4307"
      },
      "execution_count": 12,
      "outputs": [
        {
          "output_type": "stream",
          "name": "stdout",
          "text": [
            "<class 'pandas.core.frame.DataFrame'>\n",
            "RangeIndex: 2845342 entries, 0 to 2845341\n",
            "Data columns (total 47 columns):\n",
            " #   Column                 Dtype  \n",
            "---  ------                 -----  \n",
            " 0   ID                     object \n",
            " 1   Severity               int64  \n",
            " 2   Start_Time             object \n",
            " 3   End_Time               object \n",
            " 4   Start_Lat              float64\n",
            " 5   Start_Lng              float64\n",
            " 6   End_Lat                float64\n",
            " 7   End_Lng                float64\n",
            " 8   Distance(mi)           float64\n",
            " 9   Description            object \n",
            " 10  Number                 float64\n",
            " 11  Street                 object \n",
            " 12  Side                   object \n",
            " 13  City                   object \n",
            " 14  County                 object \n",
            " 15  State                  object \n",
            " 16  Zipcode                object \n",
            " 17  Country                object \n",
            " 18  Timezone               object \n",
            " 19  Airport_Code           object \n",
            " 20  Weather_Timestamp      object \n",
            " 21  Temperature(F)         float64\n",
            " 22  Wind_Chill(F)          float64\n",
            " 23  Humidity(%)            float64\n",
            " 24  Pressure(in)           float64\n",
            " 25  Visibility(mi)         float64\n",
            " 26  Wind_Direction         object \n",
            " 27  Wind_Speed(mph)        float64\n",
            " 28  Precipitation(in)      float64\n",
            " 29  Weather_Condition      object \n",
            " 30  Amenity                bool   \n",
            " 31  Bump                   bool   \n",
            " 32  Crossing               bool   \n",
            " 33  Give_Way               bool   \n",
            " 34  Junction               bool   \n",
            " 35  No_Exit                bool   \n",
            " 36  Railway                bool   \n",
            " 37  Roundabout             bool   \n",
            " 38  Station                bool   \n",
            " 39  Stop                   bool   \n",
            " 40  Traffic_Calming        bool   \n",
            " 41  Traffic_Signal         bool   \n",
            " 42  Turning_Loop           bool   \n",
            " 43  Sunrise_Sunset         object \n",
            " 44  Civil_Twilight         object \n",
            " 45  Nautical_Twilight      object \n",
            " 46  Astronomical_Twilight  object \n",
            "dtypes: bool(13), float64(13), int64(1), object(20)\n",
            "memory usage: 773.4+ MB\n"
          ]
        }
      ]
    },
    {
      "cell_type": "code",
      "source": [
        "df.describe()"
      ],
      "metadata": {
        "colab": {
          "base_uri": "https://localhost:8080/",
          "height": 364
        },
        "id": "FHrjaOI1UGOo",
        "outputId": "e0439bbc-a709-4a6b-ef03-1f7dee1c4b4d"
      },
      "execution_count": 13,
      "outputs": [
        {
          "output_type": "execute_result",
          "data": {
            "text/plain": [
              "           Severity     Start_Lat     Start_Lng       End_Lat       End_Lng  \\\n",
              "count  2.845342e+06  2.845342e+06  2.845342e+06  2.845342e+06  2.845342e+06   \n",
              "mean   2.137572e+00  3.624520e+01 -9.711463e+01  3.624532e+01 -9.711439e+01   \n",
              "std    4.787216e-01  5.363797e+00  1.831782e+01  5.363873e+00  1.831763e+01   \n",
              "min    1.000000e+00  2.456603e+01 -1.245481e+02  2.456601e+01 -1.245457e+02   \n",
              "25%    2.000000e+00  3.344517e+01 -1.180331e+02  3.344628e+01 -1.180333e+02   \n",
              "50%    2.000000e+00  3.609861e+01 -9.241808e+01  3.609799e+01 -9.241772e+01   \n",
              "75%    2.000000e+00  4.016024e+01 -8.037243e+01  4.016105e+01 -8.037338e+01   \n",
              "max    4.000000e+00  4.900058e+01 -6.711317e+01  4.907500e+01 -6.710924e+01   \n",
              "\n",
              "       Distance(mi)        Number  Temperature(F)  Wind_Chill(F)  \\\n",
              "count  2.845342e+06  1.101431e+06    2.776068e+06   2.375699e+06   \n",
              "mean   7.026779e-01  8.089408e+03    6.179356e+01   5.965823e+01   \n",
              "std    1.560361e+00  1.836009e+04    1.862263e+01   2.116097e+01   \n",
              "min    0.000000e+00  0.000000e+00   -8.900000e+01  -8.900000e+01   \n",
              "25%    5.200000e-02  1.270000e+03    5.000000e+01   4.600000e+01   \n",
              "50%    2.440000e-01  4.007000e+03    6.400000e+01   6.300000e+01   \n",
              "75%    7.640000e-01  9.567000e+03    7.600000e+01   7.600000e+01   \n",
              "max    1.551860e+02  9.999997e+06    1.960000e+02   1.960000e+02   \n",
              "\n",
              "        Humidity(%)  Pressure(in)  Visibility(mi)  Wind_Speed(mph)  \\\n",
              "count  2.772250e+06  2.786142e+06    2.774796e+06     2.687398e+06   \n",
              "mean   6.436545e+01  2.947234e+01    9.099391e+00     7.395044e+00   \n",
              "std    2.287457e+01  1.045286e+00    2.717546e+00     5.527454e+00   \n",
              "min    1.000000e+00  0.000000e+00    0.000000e+00     0.000000e+00   \n",
              "25%    4.800000e+01  2.931000e+01    1.000000e+01     3.500000e+00   \n",
              "50%    6.700000e+01  2.982000e+01    1.000000e+01     7.000000e+00   \n",
              "75%    8.300000e+01  3.001000e+01    1.000000e+01     1.000000e+01   \n",
              "max    1.000000e+02  5.890000e+01    1.400000e+02     1.087000e+03   \n",
              "\n",
              "       Precipitation(in)  \n",
              "count       2.295884e+06  \n",
              "mean        7.016940e-03  \n",
              "std         9.348831e-02  \n",
              "min         0.000000e+00  \n",
              "25%         0.000000e+00  \n",
              "50%         0.000000e+00  \n",
              "75%         0.000000e+00  \n",
              "max         2.400000e+01  "
            ],
            "text/html": [
              "\n",
              "  <div id=\"df-84c02bf5-a4a0-405b-9adf-8dda7a79d3b8\">\n",
              "    <div class=\"colab-df-container\">\n",
              "      <div>\n",
              "<style scoped>\n",
              "    .dataframe tbody tr th:only-of-type {\n",
              "        vertical-align: middle;\n",
              "    }\n",
              "\n",
              "    .dataframe tbody tr th {\n",
              "        vertical-align: top;\n",
              "    }\n",
              "\n",
              "    .dataframe thead th {\n",
              "        text-align: right;\n",
              "    }\n",
              "</style>\n",
              "<table border=\"1\" class=\"dataframe\">\n",
              "  <thead>\n",
              "    <tr style=\"text-align: right;\">\n",
              "      <th></th>\n",
              "      <th>Severity</th>\n",
              "      <th>Start_Lat</th>\n",
              "      <th>Start_Lng</th>\n",
              "      <th>End_Lat</th>\n",
              "      <th>End_Lng</th>\n",
              "      <th>Distance(mi)</th>\n",
              "      <th>Number</th>\n",
              "      <th>Temperature(F)</th>\n",
              "      <th>Wind_Chill(F)</th>\n",
              "      <th>Humidity(%)</th>\n",
              "      <th>Pressure(in)</th>\n",
              "      <th>Visibility(mi)</th>\n",
              "      <th>Wind_Speed(mph)</th>\n",
              "      <th>Precipitation(in)</th>\n",
              "    </tr>\n",
              "  </thead>\n",
              "  <tbody>\n",
              "    <tr>\n",
              "      <th>count</th>\n",
              "      <td>2.845342e+06</td>\n",
              "      <td>2.845342e+06</td>\n",
              "      <td>2.845342e+06</td>\n",
              "      <td>2.845342e+06</td>\n",
              "      <td>2.845342e+06</td>\n",
              "      <td>2.845342e+06</td>\n",
              "      <td>1.101431e+06</td>\n",
              "      <td>2.776068e+06</td>\n",
              "      <td>2.375699e+06</td>\n",
              "      <td>2.772250e+06</td>\n",
              "      <td>2.786142e+06</td>\n",
              "      <td>2.774796e+06</td>\n",
              "      <td>2.687398e+06</td>\n",
              "      <td>2.295884e+06</td>\n",
              "    </tr>\n",
              "    <tr>\n",
              "      <th>mean</th>\n",
              "      <td>2.137572e+00</td>\n",
              "      <td>3.624520e+01</td>\n",
              "      <td>-9.711463e+01</td>\n",
              "      <td>3.624532e+01</td>\n",
              "      <td>-9.711439e+01</td>\n",
              "      <td>7.026779e-01</td>\n",
              "      <td>8.089408e+03</td>\n",
              "      <td>6.179356e+01</td>\n",
              "      <td>5.965823e+01</td>\n",
              "      <td>6.436545e+01</td>\n",
              "      <td>2.947234e+01</td>\n",
              "      <td>9.099391e+00</td>\n",
              "      <td>7.395044e+00</td>\n",
              "      <td>7.016940e-03</td>\n",
              "    </tr>\n",
              "    <tr>\n",
              "      <th>std</th>\n",
              "      <td>4.787216e-01</td>\n",
              "      <td>5.363797e+00</td>\n",
              "      <td>1.831782e+01</td>\n",
              "      <td>5.363873e+00</td>\n",
              "      <td>1.831763e+01</td>\n",
              "      <td>1.560361e+00</td>\n",
              "      <td>1.836009e+04</td>\n",
              "      <td>1.862263e+01</td>\n",
              "      <td>2.116097e+01</td>\n",
              "      <td>2.287457e+01</td>\n",
              "      <td>1.045286e+00</td>\n",
              "      <td>2.717546e+00</td>\n",
              "      <td>5.527454e+00</td>\n",
              "      <td>9.348831e-02</td>\n",
              "    </tr>\n",
              "    <tr>\n",
              "      <th>min</th>\n",
              "      <td>1.000000e+00</td>\n",
              "      <td>2.456603e+01</td>\n",
              "      <td>-1.245481e+02</td>\n",
              "      <td>2.456601e+01</td>\n",
              "      <td>-1.245457e+02</td>\n",
              "      <td>0.000000e+00</td>\n",
              "      <td>0.000000e+00</td>\n",
              "      <td>-8.900000e+01</td>\n",
              "      <td>-8.900000e+01</td>\n",
              "      <td>1.000000e+00</td>\n",
              "      <td>0.000000e+00</td>\n",
              "      <td>0.000000e+00</td>\n",
              "      <td>0.000000e+00</td>\n",
              "      <td>0.000000e+00</td>\n",
              "    </tr>\n",
              "    <tr>\n",
              "      <th>25%</th>\n",
              "      <td>2.000000e+00</td>\n",
              "      <td>3.344517e+01</td>\n",
              "      <td>-1.180331e+02</td>\n",
              "      <td>3.344628e+01</td>\n",
              "      <td>-1.180333e+02</td>\n",
              "      <td>5.200000e-02</td>\n",
              "      <td>1.270000e+03</td>\n",
              "      <td>5.000000e+01</td>\n",
              "      <td>4.600000e+01</td>\n",
              "      <td>4.800000e+01</td>\n",
              "      <td>2.931000e+01</td>\n",
              "      <td>1.000000e+01</td>\n",
              "      <td>3.500000e+00</td>\n",
              "      <td>0.000000e+00</td>\n",
              "    </tr>\n",
              "    <tr>\n",
              "      <th>50%</th>\n",
              "      <td>2.000000e+00</td>\n",
              "      <td>3.609861e+01</td>\n",
              "      <td>-9.241808e+01</td>\n",
              "      <td>3.609799e+01</td>\n",
              "      <td>-9.241772e+01</td>\n",
              "      <td>2.440000e-01</td>\n",
              "      <td>4.007000e+03</td>\n",
              "      <td>6.400000e+01</td>\n",
              "      <td>6.300000e+01</td>\n",
              "      <td>6.700000e+01</td>\n",
              "      <td>2.982000e+01</td>\n",
              "      <td>1.000000e+01</td>\n",
              "      <td>7.000000e+00</td>\n",
              "      <td>0.000000e+00</td>\n",
              "    </tr>\n",
              "    <tr>\n",
              "      <th>75%</th>\n",
              "      <td>2.000000e+00</td>\n",
              "      <td>4.016024e+01</td>\n",
              "      <td>-8.037243e+01</td>\n",
              "      <td>4.016105e+01</td>\n",
              "      <td>-8.037338e+01</td>\n",
              "      <td>7.640000e-01</td>\n",
              "      <td>9.567000e+03</td>\n",
              "      <td>7.600000e+01</td>\n",
              "      <td>7.600000e+01</td>\n",
              "      <td>8.300000e+01</td>\n",
              "      <td>3.001000e+01</td>\n",
              "      <td>1.000000e+01</td>\n",
              "      <td>1.000000e+01</td>\n",
              "      <td>0.000000e+00</td>\n",
              "    </tr>\n",
              "    <tr>\n",
              "      <th>max</th>\n",
              "      <td>4.000000e+00</td>\n",
              "      <td>4.900058e+01</td>\n",
              "      <td>-6.711317e+01</td>\n",
              "      <td>4.907500e+01</td>\n",
              "      <td>-6.710924e+01</td>\n",
              "      <td>1.551860e+02</td>\n",
              "      <td>9.999997e+06</td>\n",
              "      <td>1.960000e+02</td>\n",
              "      <td>1.960000e+02</td>\n",
              "      <td>1.000000e+02</td>\n",
              "      <td>5.890000e+01</td>\n",
              "      <td>1.400000e+02</td>\n",
              "      <td>1.087000e+03</td>\n",
              "      <td>2.400000e+01</td>\n",
              "    </tr>\n",
              "  </tbody>\n",
              "</table>\n",
              "</div>\n",
              "      <button class=\"colab-df-convert\" onclick=\"convertToInteractive('df-84c02bf5-a4a0-405b-9adf-8dda7a79d3b8')\"\n",
              "              title=\"Convert this dataframe to an interactive table.\"\n",
              "              style=\"display:none;\">\n",
              "        \n",
              "  <svg xmlns=\"http://www.w3.org/2000/svg\" height=\"24px\"viewBox=\"0 0 24 24\"\n",
              "       width=\"24px\">\n",
              "    <path d=\"M0 0h24v24H0V0z\" fill=\"none\"/>\n",
              "    <path d=\"M18.56 5.44l.94 2.06.94-2.06 2.06-.94-2.06-.94-.94-2.06-.94 2.06-2.06.94zm-11 1L8.5 8.5l.94-2.06 2.06-.94-2.06-.94L8.5 2.5l-.94 2.06-2.06.94zm10 10l.94 2.06.94-2.06 2.06-.94-2.06-.94-.94-2.06-.94 2.06-2.06.94z\"/><path d=\"M17.41 7.96l-1.37-1.37c-.4-.4-.92-.59-1.43-.59-.52 0-1.04.2-1.43.59L10.3 9.45l-7.72 7.72c-.78.78-.78 2.05 0 2.83L4 21.41c.39.39.9.59 1.41.59.51 0 1.02-.2 1.41-.59l7.78-7.78 2.81-2.81c.8-.78.8-2.07 0-2.86zM5.41 20L4 18.59l7.72-7.72 1.47 1.35L5.41 20z\"/>\n",
              "  </svg>\n",
              "      </button>\n",
              "      \n",
              "  <style>\n",
              "    .colab-df-container {\n",
              "      display:flex;\n",
              "      flex-wrap:wrap;\n",
              "      gap: 12px;\n",
              "    }\n",
              "\n",
              "    .colab-df-convert {\n",
              "      background-color: #E8F0FE;\n",
              "      border: none;\n",
              "      border-radius: 50%;\n",
              "      cursor: pointer;\n",
              "      display: none;\n",
              "      fill: #1967D2;\n",
              "      height: 32px;\n",
              "      padding: 0 0 0 0;\n",
              "      width: 32px;\n",
              "    }\n",
              "\n",
              "    .colab-df-convert:hover {\n",
              "      background-color: #E2EBFA;\n",
              "      box-shadow: 0px 1px 2px rgba(60, 64, 67, 0.3), 0px 1px 3px 1px rgba(60, 64, 67, 0.15);\n",
              "      fill: #174EA6;\n",
              "    }\n",
              "\n",
              "    [theme=dark] .colab-df-convert {\n",
              "      background-color: #3B4455;\n",
              "      fill: #D2E3FC;\n",
              "    }\n",
              "\n",
              "    [theme=dark] .colab-df-convert:hover {\n",
              "      background-color: #434B5C;\n",
              "      box-shadow: 0px 1px 3px 1px rgba(0, 0, 0, 0.15);\n",
              "      filter: drop-shadow(0px 1px 2px rgba(0, 0, 0, 0.3));\n",
              "      fill: #FFFFFF;\n",
              "    }\n",
              "  </style>\n",
              "\n",
              "      <script>\n",
              "        const buttonEl =\n",
              "          document.querySelector('#df-84c02bf5-a4a0-405b-9adf-8dda7a79d3b8 button.colab-df-convert');\n",
              "        buttonEl.style.display =\n",
              "          google.colab.kernel.accessAllowed ? 'block' : 'none';\n",
              "\n",
              "        async function convertToInteractive(key) {\n",
              "          const element = document.querySelector('#df-84c02bf5-a4a0-405b-9adf-8dda7a79d3b8');\n",
              "          const dataTable =\n",
              "            await google.colab.kernel.invokeFunction('convertToInteractive',\n",
              "                                                     [key], {});\n",
              "          if (!dataTable) return;\n",
              "\n",
              "          const docLinkHtml = 'Like what you see? Visit the ' +\n",
              "            '<a target=\"_blank\" href=https://colab.research.google.com/notebooks/data_table.ipynb>data table notebook</a>'\n",
              "            + ' to learn more about interactive tables.';\n",
              "          element.innerHTML = '';\n",
              "          dataTable['output_type'] = 'display_data';\n",
              "          await google.colab.output.renderOutput(dataTable, element);\n",
              "          const docLink = document.createElement('div');\n",
              "          docLink.innerHTML = docLinkHtml;\n",
              "          element.appendChild(docLink);\n",
              "        }\n",
              "      </script>\n",
              "    </div>\n",
              "  </div>\n",
              "  "
            ]
          },
          "metadata": {},
          "execution_count": 13
        }
      ]
    },
    {
      "cell_type": "code",
      "source": [
        "numerics = ['int16', 'int32', 'int64', 'float16', 'float32', 'float64']\n",
        "\n",
        "numeric_df = df.select_dtypes(include=numerics)\n",
        "#len(numeric_df.columns)\n",
        "numeric_df"
      ],
      "metadata": {
        "colab": {
          "base_uri": "https://localhost:8080/",
          "height": 488
        },
        "id": "ea73F1XwUeEf",
        "outputId": "8e68942b-deb9-4851-ed97-ba39674dd46e"
      },
      "execution_count": 14,
      "outputs": [
        {
          "output_type": "execute_result",
          "data": {
            "text/plain": [
              "         Severity  Start_Lat   Start_Lng    End_Lat     End_Lng  Distance(mi)  \\\n",
              "0               3  40.108910  -83.092860  40.112060  -83.031870         3.230   \n",
              "1               2  39.865420  -84.062800  39.865010  -84.048730         0.747   \n",
              "2               2  39.102660  -84.524680  39.102090  -84.523960         0.055   \n",
              "3               2  41.062130  -81.537840  41.062170  -81.535470         0.123   \n",
              "4               3  39.172393  -84.492792  39.170476  -84.501798         0.500   \n",
              "...           ...        ...         ...        ...         ...           ...   \n",
              "2845337         2  34.002480 -117.379360  33.998880 -117.370940         0.543   \n",
              "2845338         2  32.766960 -117.148060  32.765550 -117.153630         0.338   \n",
              "2845339         2  33.775450 -117.847790  33.777400 -117.857270         0.561   \n",
              "2845340         2  33.992460 -118.403020  33.983110 -118.395650         0.772   \n",
              "2845341         2  34.133930 -117.230920  34.137360 -117.239340         0.537   \n",
              "\n",
              "         Number  Temperature(F)  Wind_Chill(F)  Humidity(%)  Pressure(in)  \\\n",
              "0           NaN            42.1           36.1         58.0         29.76   \n",
              "1           NaN            36.9            NaN         91.0         29.68   \n",
              "2           NaN            36.0            NaN         97.0         29.70   \n",
              "3           NaN            39.0            NaN         55.0         29.65   \n",
              "4           NaN            37.0           29.8         93.0         29.69   \n",
              "...         ...             ...            ...          ...           ...   \n",
              "2845337     NaN            86.0           86.0         40.0         28.92   \n",
              "2845338     NaN            70.0           70.0         73.0         29.39   \n",
              "2845339     NaN            73.0           73.0         64.0         29.74   \n",
              "2845340     NaN            71.0           71.0         81.0         29.62   \n",
              "2845341     NaN            79.0           79.0         47.0         28.63   \n",
              "\n",
              "         Visibility(mi)  Wind_Speed(mph)  Precipitation(in)  \n",
              "0                  10.0             10.4               0.00  \n",
              "1                  10.0              NaN               0.02  \n",
              "2                  10.0              NaN               0.02  \n",
              "3                  10.0              NaN                NaN  \n",
              "4                  10.0             10.4               0.01  \n",
              "...                 ...              ...                ...  \n",
              "2845337            10.0             13.0               0.00  \n",
              "2845338            10.0              6.0               0.00  \n",
              "2845339            10.0             10.0               0.00  \n",
              "2845340            10.0              8.0               0.00  \n",
              "2845341             7.0              7.0               0.00  \n",
              "\n",
              "[2845342 rows x 14 columns]"
            ],
            "text/html": [
              "\n",
              "  <div id=\"df-3bf974b6-c342-4dee-94ed-c0f25429eda0\">\n",
              "    <div class=\"colab-df-container\">\n",
              "      <div>\n",
              "<style scoped>\n",
              "    .dataframe tbody tr th:only-of-type {\n",
              "        vertical-align: middle;\n",
              "    }\n",
              "\n",
              "    .dataframe tbody tr th {\n",
              "        vertical-align: top;\n",
              "    }\n",
              "\n",
              "    .dataframe thead th {\n",
              "        text-align: right;\n",
              "    }\n",
              "</style>\n",
              "<table border=\"1\" class=\"dataframe\">\n",
              "  <thead>\n",
              "    <tr style=\"text-align: right;\">\n",
              "      <th></th>\n",
              "      <th>Severity</th>\n",
              "      <th>Start_Lat</th>\n",
              "      <th>Start_Lng</th>\n",
              "      <th>End_Lat</th>\n",
              "      <th>End_Lng</th>\n",
              "      <th>Distance(mi)</th>\n",
              "      <th>Number</th>\n",
              "      <th>Temperature(F)</th>\n",
              "      <th>Wind_Chill(F)</th>\n",
              "      <th>Humidity(%)</th>\n",
              "      <th>Pressure(in)</th>\n",
              "      <th>Visibility(mi)</th>\n",
              "      <th>Wind_Speed(mph)</th>\n",
              "      <th>Precipitation(in)</th>\n",
              "    </tr>\n",
              "  </thead>\n",
              "  <tbody>\n",
              "    <tr>\n",
              "      <th>0</th>\n",
              "      <td>3</td>\n",
              "      <td>40.108910</td>\n",
              "      <td>-83.092860</td>\n",
              "      <td>40.112060</td>\n",
              "      <td>-83.031870</td>\n",
              "      <td>3.230</td>\n",
              "      <td>NaN</td>\n",
              "      <td>42.1</td>\n",
              "      <td>36.1</td>\n",
              "      <td>58.0</td>\n",
              "      <td>29.76</td>\n",
              "      <td>10.0</td>\n",
              "      <td>10.4</td>\n",
              "      <td>0.00</td>\n",
              "    </tr>\n",
              "    <tr>\n",
              "      <th>1</th>\n",
              "      <td>2</td>\n",
              "      <td>39.865420</td>\n",
              "      <td>-84.062800</td>\n",
              "      <td>39.865010</td>\n",
              "      <td>-84.048730</td>\n",
              "      <td>0.747</td>\n",
              "      <td>NaN</td>\n",
              "      <td>36.9</td>\n",
              "      <td>NaN</td>\n",
              "      <td>91.0</td>\n",
              "      <td>29.68</td>\n",
              "      <td>10.0</td>\n",
              "      <td>NaN</td>\n",
              "      <td>0.02</td>\n",
              "    </tr>\n",
              "    <tr>\n",
              "      <th>2</th>\n",
              "      <td>2</td>\n",
              "      <td>39.102660</td>\n",
              "      <td>-84.524680</td>\n",
              "      <td>39.102090</td>\n",
              "      <td>-84.523960</td>\n",
              "      <td>0.055</td>\n",
              "      <td>NaN</td>\n",
              "      <td>36.0</td>\n",
              "      <td>NaN</td>\n",
              "      <td>97.0</td>\n",
              "      <td>29.70</td>\n",
              "      <td>10.0</td>\n",
              "      <td>NaN</td>\n",
              "      <td>0.02</td>\n",
              "    </tr>\n",
              "    <tr>\n",
              "      <th>3</th>\n",
              "      <td>2</td>\n",
              "      <td>41.062130</td>\n",
              "      <td>-81.537840</td>\n",
              "      <td>41.062170</td>\n",
              "      <td>-81.535470</td>\n",
              "      <td>0.123</td>\n",
              "      <td>NaN</td>\n",
              "      <td>39.0</td>\n",
              "      <td>NaN</td>\n",
              "      <td>55.0</td>\n",
              "      <td>29.65</td>\n",
              "      <td>10.0</td>\n",
              "      <td>NaN</td>\n",
              "      <td>NaN</td>\n",
              "    </tr>\n",
              "    <tr>\n",
              "      <th>4</th>\n",
              "      <td>3</td>\n",
              "      <td>39.172393</td>\n",
              "      <td>-84.492792</td>\n",
              "      <td>39.170476</td>\n",
              "      <td>-84.501798</td>\n",
              "      <td>0.500</td>\n",
              "      <td>NaN</td>\n",
              "      <td>37.0</td>\n",
              "      <td>29.8</td>\n",
              "      <td>93.0</td>\n",
              "      <td>29.69</td>\n",
              "      <td>10.0</td>\n",
              "      <td>10.4</td>\n",
              "      <td>0.01</td>\n",
              "    </tr>\n",
              "    <tr>\n",
              "      <th>...</th>\n",
              "      <td>...</td>\n",
              "      <td>...</td>\n",
              "      <td>...</td>\n",
              "      <td>...</td>\n",
              "      <td>...</td>\n",
              "      <td>...</td>\n",
              "      <td>...</td>\n",
              "      <td>...</td>\n",
              "      <td>...</td>\n",
              "      <td>...</td>\n",
              "      <td>...</td>\n",
              "      <td>...</td>\n",
              "      <td>...</td>\n",
              "      <td>...</td>\n",
              "    </tr>\n",
              "    <tr>\n",
              "      <th>2845337</th>\n",
              "      <td>2</td>\n",
              "      <td>34.002480</td>\n",
              "      <td>-117.379360</td>\n",
              "      <td>33.998880</td>\n",
              "      <td>-117.370940</td>\n",
              "      <td>0.543</td>\n",
              "      <td>NaN</td>\n",
              "      <td>86.0</td>\n",
              "      <td>86.0</td>\n",
              "      <td>40.0</td>\n",
              "      <td>28.92</td>\n",
              "      <td>10.0</td>\n",
              "      <td>13.0</td>\n",
              "      <td>0.00</td>\n",
              "    </tr>\n",
              "    <tr>\n",
              "      <th>2845338</th>\n",
              "      <td>2</td>\n",
              "      <td>32.766960</td>\n",
              "      <td>-117.148060</td>\n",
              "      <td>32.765550</td>\n",
              "      <td>-117.153630</td>\n",
              "      <td>0.338</td>\n",
              "      <td>NaN</td>\n",
              "      <td>70.0</td>\n",
              "      <td>70.0</td>\n",
              "      <td>73.0</td>\n",
              "      <td>29.39</td>\n",
              "      <td>10.0</td>\n",
              "      <td>6.0</td>\n",
              "      <td>0.00</td>\n",
              "    </tr>\n",
              "    <tr>\n",
              "      <th>2845339</th>\n",
              "      <td>2</td>\n",
              "      <td>33.775450</td>\n",
              "      <td>-117.847790</td>\n",
              "      <td>33.777400</td>\n",
              "      <td>-117.857270</td>\n",
              "      <td>0.561</td>\n",
              "      <td>NaN</td>\n",
              "      <td>73.0</td>\n",
              "      <td>73.0</td>\n",
              "      <td>64.0</td>\n",
              "      <td>29.74</td>\n",
              "      <td>10.0</td>\n",
              "      <td>10.0</td>\n",
              "      <td>0.00</td>\n",
              "    </tr>\n",
              "    <tr>\n",
              "      <th>2845340</th>\n",
              "      <td>2</td>\n",
              "      <td>33.992460</td>\n",
              "      <td>-118.403020</td>\n",
              "      <td>33.983110</td>\n",
              "      <td>-118.395650</td>\n",
              "      <td>0.772</td>\n",
              "      <td>NaN</td>\n",
              "      <td>71.0</td>\n",
              "      <td>71.0</td>\n",
              "      <td>81.0</td>\n",
              "      <td>29.62</td>\n",
              "      <td>10.0</td>\n",
              "      <td>8.0</td>\n",
              "      <td>0.00</td>\n",
              "    </tr>\n",
              "    <tr>\n",
              "      <th>2845341</th>\n",
              "      <td>2</td>\n",
              "      <td>34.133930</td>\n",
              "      <td>-117.230920</td>\n",
              "      <td>34.137360</td>\n",
              "      <td>-117.239340</td>\n",
              "      <td>0.537</td>\n",
              "      <td>NaN</td>\n",
              "      <td>79.0</td>\n",
              "      <td>79.0</td>\n",
              "      <td>47.0</td>\n",
              "      <td>28.63</td>\n",
              "      <td>7.0</td>\n",
              "      <td>7.0</td>\n",
              "      <td>0.00</td>\n",
              "    </tr>\n",
              "  </tbody>\n",
              "</table>\n",
              "<p>2845342 rows × 14 columns</p>\n",
              "</div>\n",
              "      <button class=\"colab-df-convert\" onclick=\"convertToInteractive('df-3bf974b6-c342-4dee-94ed-c0f25429eda0')\"\n",
              "              title=\"Convert this dataframe to an interactive table.\"\n",
              "              style=\"display:none;\">\n",
              "        \n",
              "  <svg xmlns=\"http://www.w3.org/2000/svg\" height=\"24px\"viewBox=\"0 0 24 24\"\n",
              "       width=\"24px\">\n",
              "    <path d=\"M0 0h24v24H0V0z\" fill=\"none\"/>\n",
              "    <path d=\"M18.56 5.44l.94 2.06.94-2.06 2.06-.94-2.06-.94-.94-2.06-.94 2.06-2.06.94zm-11 1L8.5 8.5l.94-2.06 2.06-.94-2.06-.94L8.5 2.5l-.94 2.06-2.06.94zm10 10l.94 2.06.94-2.06 2.06-.94-2.06-.94-.94-2.06-.94 2.06-2.06.94z\"/><path d=\"M17.41 7.96l-1.37-1.37c-.4-.4-.92-.59-1.43-.59-.52 0-1.04.2-1.43.59L10.3 9.45l-7.72 7.72c-.78.78-.78 2.05 0 2.83L4 21.41c.39.39.9.59 1.41.59.51 0 1.02-.2 1.41-.59l7.78-7.78 2.81-2.81c.8-.78.8-2.07 0-2.86zM5.41 20L4 18.59l7.72-7.72 1.47 1.35L5.41 20z\"/>\n",
              "  </svg>\n",
              "      </button>\n",
              "      \n",
              "  <style>\n",
              "    .colab-df-container {\n",
              "      display:flex;\n",
              "      flex-wrap:wrap;\n",
              "      gap: 12px;\n",
              "    }\n",
              "\n",
              "    .colab-df-convert {\n",
              "      background-color: #E8F0FE;\n",
              "      border: none;\n",
              "      border-radius: 50%;\n",
              "      cursor: pointer;\n",
              "      display: none;\n",
              "      fill: #1967D2;\n",
              "      height: 32px;\n",
              "      padding: 0 0 0 0;\n",
              "      width: 32px;\n",
              "    }\n",
              "\n",
              "    .colab-df-convert:hover {\n",
              "      background-color: #E2EBFA;\n",
              "      box-shadow: 0px 1px 2px rgba(60, 64, 67, 0.3), 0px 1px 3px 1px rgba(60, 64, 67, 0.15);\n",
              "      fill: #174EA6;\n",
              "    }\n",
              "\n",
              "    [theme=dark] .colab-df-convert {\n",
              "      background-color: #3B4455;\n",
              "      fill: #D2E3FC;\n",
              "    }\n",
              "\n",
              "    [theme=dark] .colab-df-convert:hover {\n",
              "      background-color: #434B5C;\n",
              "      box-shadow: 0px 1px 3px 1px rgba(0, 0, 0, 0.15);\n",
              "      filter: drop-shadow(0px 1px 2px rgba(0, 0, 0, 0.3));\n",
              "      fill: #FFFFFF;\n",
              "    }\n",
              "  </style>\n",
              "\n",
              "      <script>\n",
              "        const buttonEl =\n",
              "          document.querySelector('#df-3bf974b6-c342-4dee-94ed-c0f25429eda0 button.colab-df-convert');\n",
              "        buttonEl.style.display =\n",
              "          google.colab.kernel.accessAllowed ? 'block' : 'none';\n",
              "\n",
              "        async function convertToInteractive(key) {\n",
              "          const element = document.querySelector('#df-3bf974b6-c342-4dee-94ed-c0f25429eda0');\n",
              "          const dataTable =\n",
              "            await google.colab.kernel.invokeFunction('convertToInteractive',\n",
              "                                                     [key], {});\n",
              "          if (!dataTable) return;\n",
              "\n",
              "          const docLinkHtml = 'Like what you see? Visit the ' +\n",
              "            '<a target=\"_blank\" href=https://colab.research.google.com/notebooks/data_table.ipynb>data table notebook</a>'\n",
              "            + ' to learn more about interactive tables.';\n",
              "          element.innerHTML = '';\n",
              "          dataTable['output_type'] = 'display_data';\n",
              "          await google.colab.output.renderOutput(dataTable, element);\n",
              "          const docLink = document.createElement('div');\n",
              "          docLink.innerHTML = docLinkHtml;\n",
              "          element.appendChild(docLink);\n",
              "        }\n",
              "      </script>\n",
              "    </div>\n",
              "  </div>\n",
              "  "
            ]
          },
          "metadata": {},
          "execution_count": 14
        }
      ]
    },
    {
      "cell_type": "code",
      "source": [
        "missing_percentages=df.isna().sum().sort_values(ascending=False)/len(df)\n",
        "missing_percentages"
      ],
      "metadata": {
        "colab": {
          "base_uri": "https://localhost:8080/"
        },
        "id": "1yQ84TGCWJ7P",
        "outputId": "31859ef6-0180-4155-a07a-e669cff0cc71"
      },
      "execution_count": 15,
      "outputs": [
        {
          "output_type": "execute_result",
          "data": {
            "text/plain": [
              "Number                   6.129003e-01\n",
              "Precipitation(in)        1.931079e-01\n",
              "Wind_Chill(F)            1.650568e-01\n",
              "Wind_Speed(mph)          5.550967e-02\n",
              "Wind_Direction           2.592834e-02\n",
              "Humidity(%)              2.568830e-02\n",
              "Weather_Condition        2.482514e-02\n",
              "Visibility(mi)           2.479350e-02\n",
              "Temperature(F)           2.434646e-02\n",
              "Pressure(in)             2.080593e-02\n",
              "Weather_Timestamp        1.783125e-02\n",
              "Airport_Code             3.356011e-03\n",
              "Timezone                 1.285961e-03\n",
              "Nautical_Twilight        1.007612e-03\n",
              "Civil_Twilight           1.007612e-03\n",
              "Sunrise_Sunset           1.007612e-03\n",
              "Astronomical_Twilight    1.007612e-03\n",
              "Zipcode                  4.635647e-04\n",
              "City                     4.814887e-05\n",
              "Street                   7.029032e-07\n",
              "Country                  0.000000e+00\n",
              "Junction                 0.000000e+00\n",
              "Start_Time               0.000000e+00\n",
              "End_Time                 0.000000e+00\n",
              "Start_Lat                0.000000e+00\n",
              "Turning_Loop             0.000000e+00\n",
              "Traffic_Signal           0.000000e+00\n",
              "Traffic_Calming          0.000000e+00\n",
              "Stop                     0.000000e+00\n",
              "Station                  0.000000e+00\n",
              "Roundabout               0.000000e+00\n",
              "Railway                  0.000000e+00\n",
              "No_Exit                  0.000000e+00\n",
              "Crossing                 0.000000e+00\n",
              "Give_Way                 0.000000e+00\n",
              "Bump                     0.000000e+00\n",
              "Amenity                  0.000000e+00\n",
              "Start_Lng                0.000000e+00\n",
              "End_Lat                  0.000000e+00\n",
              "End_Lng                  0.000000e+00\n",
              "Distance(mi)             0.000000e+00\n",
              "Description              0.000000e+00\n",
              "Severity                 0.000000e+00\n",
              "Side                     0.000000e+00\n",
              "County                   0.000000e+00\n",
              "State                    0.000000e+00\n",
              "ID                       0.000000e+00\n",
              "dtype: float64"
            ]
          },
          "metadata": {},
          "execution_count": 15
        }
      ]
    },
    {
      "cell_type": "code",
      "source": [
        "missing_percentages[missing_percentages!=0].plot(kind='barh')"
      ],
      "metadata": {
        "colab": {
          "base_uri": "https://localhost:8080/",
          "height": 282
        },
        "id": "Tt3ACm2VXGJW",
        "outputId": "97c3f909-b50d-4deb-ac4f-79f411283ada"
      },
      "execution_count": 16,
      "outputs": [
        {
          "output_type": "execute_result",
          "data": {
            "text/plain": [
              "<matplotlib.axes._subplots.AxesSubplot at 0x7f1d76ca5250>"
            ]
          },
          "metadata": {},
          "execution_count": 16
        },
        {
          "output_type": "display_data",
          "data": {
            "text/plain": [
              "<Figure size 432x288 with 1 Axes>"
            ],
            "image/png": "[encoded data removed]"
          },
          "metadata": {
            "needs_background": "light"
          }
        }
      ]
    },
    {
      "cell_type": "markdown",
      "source": [
        "Exploring and Visualzing Data"
      ],
      "metadata": {
        "id": "ug2ijldBbWJW"
      }
    },
    {
      "cell_type": "code",
      "source": [
        "df.columns"
      ],
      "metadata": {
        "colab": {
          "base_uri": "https://localhost:8080/"
        },
        "id": "CNY9CvKDZpNI",
        "outputId": "05a02f66-4019-4970-deaf-67b5e50c2b78"
      },
      "execution_count": 17,
      "outputs": [
        {
          "output_type": "execute_result",
          "data": {
            "text/plain": [
              "Index(['ID', 'Severity', 'Start_Time', 'End_Time', 'Start_Lat', 'Start_Lng',\n",
              "       'End_Lat', 'End_Lng', 'Distance(mi)', 'Description', 'Number', 'Street',\n",
              "       'Side', 'City', 'County', 'State', 'Zipcode', 'Country', 'Timezone',\n",
              "       'Airport_Code', 'Weather_Timestamp', 'Temperature(F)', 'Wind_Chill(F)',\n",
              "       'Humidity(%)', 'Pressure(in)', 'Visibility(mi)', 'Wind_Direction',\n",
              "       'Wind_Speed(mph)', 'Precipitation(in)', 'Weather_Condition', 'Amenity',\n",
              "       'Bump', 'Crossing', 'Give_Way', 'Junction', 'No_Exit', 'Railway',\n",
              "       'Roundabout', 'Station', 'Stop', 'Traffic_Calming', 'Traffic_Signal',\n",
              "       'Turning_Loop', 'Sunrise_Sunset', 'Civil_Twilight', 'Nautical_Twilight',\n",
              "       'Astronomical_Twilight'],\n",
              "      dtype='object')"
            ]
          },
          "metadata": {},
          "execution_count": 17
        }
      ]
    },
    {
      "cell_type": "code",
      "source": [
        "df.City"
      ],
      "metadata": {
        "colab": {
          "base_uri": "https://localhost:8080/"
        },
        "id": "PxznS_GHbORi",
        "outputId": "ce63f70a-f27b-4a89-9732-5baab6dfcb55"
      },
      "execution_count": 18,
      "outputs": [
        {
          "output_type": "execute_result",
          "data": {
            "text/plain": [
              "0               Dublin\n",
              "1               Dayton\n",
              "2           Cincinnati\n",
              "3                Akron\n",
              "4           Cincinnati\n",
              "              ...     \n",
              "2845337      Riverside\n",
              "2845338      San Diego\n",
              "2845339         Orange\n",
              "2845340    Culver City\n",
              "2845341       Highland\n",
              "Name: City, Length: 2845342, dtype: object"
            ]
          },
          "metadata": {},
          "execution_count": 18
        }
      ]
    },
    {
      "cell_type": "code",
      "source": [
        "cities=df.City.unique()\n",
        "len(cities)"
      ],
      "metadata": {
        "colab": {
          "base_uri": "https://localhost:8080/"
        },
        "id": "SQVOsnvRbkhq",
        "outputId": "907e867b-eb5e-440c-af97-924ca08aeeed"
      },
      "execution_count": 19,
      "outputs": [
        {
          "output_type": "execute_result",
          "data": {
            "text/plain": [
              "11682"
            ]
          },
          "metadata": {},
          "execution_count": 19
        }
      ]
    },
    {
      "cell_type": "code",
      "source": [
        "cities_by_accidents=df.City.value_counts()\n",
        "cities_by_accidents"
      ],
      "metadata": {
        "colab": {
          "base_uri": "https://localhost:8080/"
        },
        "id": "VknPcs4DbyDC",
        "outputId": "85172e1f-3bfb-4856-be2b-e06a242b64a9"
      },
      "execution_count": 20,
      "outputs": [
        {
          "output_type": "execute_result",
          "data": {
            "text/plain": [
              "Miami                           106966\n",
              "Los Angeles                      68956\n",
              "Orlando                          54691\n",
              "Dallas                           41979\n",
              "Houston                          39448\n",
              "                                 ...  \n",
              "Ridgedale                            1\n",
              "Sekiu                                1\n",
              "Wooldridge                           1\n",
              "Bullock                              1\n",
              "American Fork-Pleasant Grove         1\n",
              "Name: City, Length: 11681, dtype: int64"
            ]
          },
          "metadata": {},
          "execution_count": 20
        }
      ]
    },
    {
      "cell_type": "code",
      "source": [
        "cities_by_accidents[:20].plot(kind='barh')\n"
      ],
      "metadata": {
        "colab": {
          "base_uri": "https://localhost:8080/",
          "height": 282
        },
        "id": "xwNkLclxdqoR",
        "outputId": "9dfec85b-e759-4ed1-d26a-73cf06ce6bf7"
      },
      "execution_count": 21,
      "outputs": [
        {
          "output_type": "execute_result",
          "data": {
            "text/plain": [
              "<matplotlib.axes._subplots.AxesSubplot at 0x7f1d76481150>"
            ]
          },
          "metadata": {},
          "execution_count": 21
        },
        {
          "output_type": "display_data",
          "data": {
            "text/plain": [
              "<Figure size 432x288 with 1 Axes>"
            ],
            "image/png": "[encoded data removed]"
          },
          "metadata": {
            "needs_background": "light"
          }
        }
      ]
    },
    {
      "cell_type": "code",
      "source": [
        "import seaborn as sns\n",
        "sns.set_style(\"darkgrid\")"
      ],
      "metadata": {
        "id": "aVTuiW01ezOL"
      },
      "execution_count": 22,
      "outputs": []
    },
    {
      "cell_type": "code",
      "source": [
        " sns.histplot(cities_by_accidents , log_scale=True)"
      ],
      "metadata": {
        "colab": {
          "base_uri": "https://localhost:8080/",
          "height": 300
        },
        "id": "LQHNEIlHfnAY",
        "outputId": "1d42fbf4-8245-485f-bba6-40d862e90673"
      },
      "execution_count": 23,
      "outputs": [
        {
          "output_type": "execute_result",
          "data": {
            "text/plain": [
              "<matplotlib.axes._subplots.AxesSubplot at 0x7f1d63b4e690>"
            ]
          },
          "metadata": {},
          "execution_count": 23
        },
        {
          "output_type": "display_data",
          "data": {
            "text/plain": [
              "<Figure size 432x288 with 1 Axes>"
            ],
            "image/png": "[encoded data removed]"
          },
          "metadata": {}
        }
      ]
    },
    {
      "cell_type": "markdown",
      "source": [
        "No of accidents in cities are exponentially decreasing. We see large accounts near to 1, possibly because of not data recorded there."
      ],
      "metadata": {
        "id": "DpEx5z7iWbcy"
      }
    },
    {
      "cell_type": "code",
      "source": [
        "cities_by_accidents[cities_by_accidents==1]"
      ],
      "metadata": {
        "colab": {
          "base_uri": "https://localhost:8080/"
        },
        "id": "VwPHggCEWOcJ",
        "outputId": "4d491e47-be55-4806-853b-34b56938673f"
      },
      "execution_count": 48,
      "outputs": [
        {
          "output_type": "execute_result",
          "data": {
            "text/plain": [
              "Carney                          1\n",
              "Waverly Hall                    1\n",
              "Center Sandwich                 1\n",
              "Glen Flora                      1\n",
              "Sulphur Springs                 1\n",
              "                               ..\n",
              "Ridgedale                       1\n",
              "Sekiu                           1\n",
              "Wooldridge                      1\n",
              "Bullock                         1\n",
              "American Fork-Pleasant Grove    1\n",
              "Name: City, Length: 1110, dtype: int64"
            ]
          },
          "metadata": {},
          "execution_count": 48
        }
      ]
    },
    {
      "cell_type": "code",
      "source": [
        "street = pd.DataFrame(df.Street.value_counts().reset_index().rename(columns={'index':'Street No.', 'Street':'Cases'}))\n",
        "top_street = pd.DataFrame(street.head(10))\n",
        "plt.figure(figsize=(9,4))\n",
        "plt.title('\\nTop 10 Accident Prone Streets in US (2016-2020)\\n', size=20, color='grey')\n",
        "plt.xlabel('\\nStreet No.\\n', fontsize=15, color='grey')\n",
        "plt.ylabel('\\nAccident Cases\\n', fontsize=15, color='grey')\n",
        "plt.xticks(fontsize=13)\n",
        "plt.yticks(fontsize=12)\n",
        "a = sns.barplot(x=top_street[\"Street No.\"],y=top_street.Cases,palette=\"rainbow\")\n",
        "import matplotlib.ticker as ticker\n",
        "a.yaxis.set_major_formatter(ticker.EngFormatter())\n",
        "plt.show()\n"
      ],
      "metadata": {
        "colab": {
          "base_uri": "https://localhost:8080/",
          "height": 352
        },
        "id": "mWiqYRt9kEif",
        "outputId": "8e47b7dc-99c7-4f8c-886c-a8e22c9af7d5"
      },
      "execution_count": 52,
      "outputs": [
        {
          "output_type": "display_data",
          "data": {
            "text/plain": [
              "<Figure size 648x288 with 1 Axes>"
            ],
            "image/png": "[encoded data removed]"
          },
          "metadata": {}
        }
      ]
    },
    {
      "cell_type": "markdown",
      "source": [
        "### Start Time"
      ],
      "metadata": {
        "id": "-ahGmfv8RJ2u"
      }
    },
    {
      "cell_type": "code",
      "source": [
        "df.Start_Time"
      ],
      "metadata": {
        "colab": {
          "base_uri": "https://localhost:8080/"
        },
        "id": "un9_5clekEfL",
        "outputId": "1470e661-0b1b-4ced-fd63-78402cb49b57"
      },
      "execution_count": 25,
      "outputs": [
        {
          "output_type": "execute_result",
          "data": {
            "text/plain": [
              "0          2016-02-08 00:37:08\n",
              "1          2016-02-08 05:56:20\n",
              "2          2016-02-08 06:15:39\n",
              "3          2016-02-08 06:51:45\n",
              "4          2016-02-08 07:53:43\n",
              "                  ...         \n",
              "2845337    2019-08-23 18:03:25\n",
              "2845338    2019-08-23 19:11:30\n",
              "2845339    2019-08-23 19:00:21\n",
              "2845340    2019-08-23 19:00:21\n",
              "2845341    2019-08-23 18:52:06\n",
              "Name: Start_Time, Length: 2845342, dtype: object"
            ]
          },
          "metadata": {},
          "execution_count": 25
        }
      ]
    },
    {
      "cell_type": "code",
      "source": [
        "df.Start_Time=pd.to_datetime(df.Start_Time)"
      ],
      "metadata": {
        "id": "kHnJPrrxkEbN"
      },
      "execution_count": 26,
      "outputs": []
    },
    {
      "cell_type": "code",
      "source": [
        "df.Start_Time[0]"
      ],
      "metadata": {
        "colab": {
          "base_uri": "https://localhost:8080/"
        },
        "id": "xSa0GE5IkEXf",
        "outputId": "78d5135b-9383-4107-8093-38fce5d78bfb"
      },
      "execution_count": 27,
      "outputs": [
        {
          "output_type": "execute_result",
          "data": {
            "text/plain": [
              "Timestamp('2016-02-08 00:37:08')"
            ]
          },
          "metadata": {},
          "execution_count": 27
        }
      ]
    },
    {
      "cell_type": "code",
      "source": [
        "sns.distplot(df.Start_Time.dt.hour,bins=24,kde=False,norm_hist=True)"
      ],
      "metadata": {
        "colab": {
          "base_uri": "https://localhost:8080/",
          "height": 352
        },
        "id": "FBBELiRrkEUK",
        "outputId": "c7d05914-f159-4b96-fe2b-124069079b7f"
      },
      "execution_count": 28,
      "outputs": [
        {
          "output_type": "stream",
          "name": "stderr",
          "text": [
            "/usr/local/lib/python3.7/dist-packages/seaborn/distributions.py:2619: FutureWarning: `distplot` is a deprecated function and will be removed in a future version. Please adapt your code to use either `displot` (a figure-level function with similar flexibility) or `histplot` (an axes-level function for histograms).\n",
            "  warnings.warn(msg, FutureWarning)\n"
          ]
        },
        {
          "output_type": "execute_result",
          "data": {
            "text/plain": [
              "<matplotlib.axes._subplots.AxesSubplot at 0x7f1d637bed90>"
            ]
          },
          "metadata": {},
          "execution_count": 28
        },
        {
          "output_type": "display_data",
          "data": {
            "text/plain": [
              "<Figure size 432x288 with 1 Axes>"
            ],
            "image/png": "[encoded data removed]"
          },
          "metadata": {}
        }
      ]
    },
    {
      "cell_type": "code",
      "source": [
        "sns.distplot(df.Start_Time.dt.dayofweek,bins=7,kde=False,norm_hist=True)"
      ],
      "metadata": {
        "colab": {
          "base_uri": "https://localhost:8080/",
          "height": 352
        },
        "id": "OUmDIaFakEQy",
        "outputId": "bc133e08-9486-4080-882b-14027f21bcae"
      },
      "execution_count": 29,
      "outputs": [
        {
          "output_type": "stream",
          "name": "stderr",
          "text": [
            "/usr/local/lib/python3.7/dist-packages/seaborn/distributions.py:2619: FutureWarning: `distplot` is a deprecated function and will be removed in a future version. Please adapt your code to use either `displot` (a figure-level function with similar flexibility) or `histplot` (an axes-level function for histograms).\n",
            "  warnings.warn(msg, FutureWarning)\n"
          ]
        },
        {
          "output_type": "execute_result",
          "data": {
            "text/plain": [
              "<matplotlib.axes._subplots.AxesSubplot at 0x7f1d637d6450>"
            ]
          },
          "metadata": {},
          "execution_count": 29
        },
        {
          "output_type": "display_data",
          "data": {
            "text/plain": [
              "<Figure size 432x288 with 1 Axes>"
            ],
            "image/png": "[encoded data removed]"
          },
          "metadata": {}
        }
      ]
    },
    {
      "cell_type": "code",
      "source": [
        "\n",
        "sunday_start_time=df.Start_Time[df.Start_Time.dt.dayofweek==6]\n",
        "sns.distplot(sunday_start_time.dt.hour,bins=24,kde=False,norm_hist=True)"
      ],
      "metadata": {
        "colab": {
          "base_uri": "https://localhost:8080/",
          "height": 352
        },
        "id": "hZu-lSShkEN8",
        "outputId": "55b983aa-4852-4c83-cf6f-037e21b05896"
      },
      "execution_count": 30,
      "outputs": [
        {
          "output_type": "stream",
          "name": "stderr",
          "text": [
            "/usr/local/lib/python3.7/dist-packages/seaborn/distributions.py:2619: FutureWarning: `distplot` is a deprecated function and will be removed in a future version. Please adapt your code to use either `displot` (a figure-level function with similar flexibility) or `histplot` (an axes-level function for histograms).\n",
            "  warnings.warn(msg, FutureWarning)\n"
          ]
        },
        {
          "output_type": "execute_result",
          "data": {
            "text/plain": [
              "<matplotlib.axes._subplots.AxesSubplot at 0x7f1d638bf110>"
            ]
          },
          "metadata": {},
          "execution_count": 30
        },
        {
          "output_type": "display_data",
          "data": {
            "text/plain": [
              "<Figure size 432x288 with 1 Axes>"
            ],
            "image/png": "[encoded data removed]"
          },
          "metadata": {}
        }
      ]
    },
    {
      "cell_type": "code",
      "source": [
        "monday_start_time=df.Start_Time[df.Start_Time.dt.dayofweek==1]\n",
        "sns.distplot(monday_start_time.dt.hour,bins=24,kde=False,norm_hist=True)"
      ],
      "metadata": {
        "colab": {
          "base_uri": "https://localhost:8080/",
          "height": 352
        },
        "id": "CbtDP0LPkELF",
        "outputId": "a5ca7c02-1307-49d7-c0b3-d51807d6fc01"
      },
      "execution_count": 31,
      "outputs": [
        {
          "output_type": "stream",
          "name": "stderr",
          "text": [
            "/usr/local/lib/python3.7/dist-packages/seaborn/distributions.py:2619: FutureWarning: `distplot` is a deprecated function and will be removed in a future version. Please adapt your code to use either `displot` (a figure-level function with similar flexibility) or `histplot` (an axes-level function for histograms).\n",
            "  warnings.warn(msg, FutureWarning)\n"
          ]
        },
        {
          "output_type": "execute_result",
          "data": {
            "text/plain": [
              "<matplotlib.axes._subplots.AxesSubplot at 0x7f1d636aca90>"
            ]
          },
          "metadata": {},
          "execution_count": 31
        },
        {
          "output_type": "display_data",
          "data": {
            "text/plain": [
              "<Figure size 432x288 with 1 Axes>"
            ],
            "image/png": "[encoded data removed]"
          },
          "metadata": {}
        }
      ]
    },
    {
      "cell_type": "code",
      "source": [
        " sns.distplot(df.Start_Time.dt.month,bins=12,kde=False,norm_hist=True)"
      ],
      "metadata": {
        "colab": {
          "base_uri": "https://localhost:8080/",
          "height": 352
        },
        "id": "j7g1mhpXkEIR",
        "outputId": "c21e4dbd-57fd-4139-e856-e6d6e1c68ce4"
      },
      "execution_count": 32,
      "outputs": [
        {
          "output_type": "stream",
          "name": "stderr",
          "text": [
            "/usr/local/lib/python3.7/dist-packages/seaborn/distributions.py:2619: FutureWarning: `distplot` is a deprecated function and will be removed in a future version. Please adapt your code to use either `displot` (a figure-level function with similar flexibility) or `histplot` (an axes-level function for histograms).\n",
            "  warnings.warn(msg, FutureWarning)\n"
          ]
        },
        {
          "output_type": "execute_result",
          "data": {
            "text/plain": [
              "<matplotlib.axes._subplots.AxesSubplot at 0x7f1d63627490>"
            ]
          },
          "metadata": {},
          "execution_count": 32
        },
        {
          "output_type": "display_data",
          "data": {
            "text/plain": [
              "<Figure size 432x288 with 1 Axes>"
            ],
            "image/png": "[encoded data removed]"
          },
          "metadata": {}
        }
      ]
    },
    {
      "cell_type": "code",
      "source": [
        " df_2020=df[df.Start_Time.dt.year==2018]\n",
        " sns.distplot(df_2020.Start_Time.dt.month,bins=12,kde=False,norm_hist=True)"
      ],
      "metadata": {
        "colab": {
          "base_uri": "https://localhost:8080/",
          "height": 352
        },
        "id": "LsoKTdIykEFT",
        "outputId": "ea22ad7b-3dc3-41b0-cebe-e1ca7093bbd8"
      },
      "execution_count": 33,
      "outputs": [
        {
          "output_type": "stream",
          "name": "stderr",
          "text": [
            "/usr/local/lib/python3.7/dist-packages/seaborn/distributions.py:2619: FutureWarning: `distplot` is a deprecated function and will be removed in a future version. Please adapt your code to use either `displot` (a figure-level function with similar flexibility) or `histplot` (an axes-level function for histograms).\n",
            "  warnings.warn(msg, FutureWarning)\n"
          ]
        },
        {
          "output_type": "execute_result",
          "data": {
            "text/plain": [
              "<matplotlib.axes._subplots.AxesSubplot at 0x7f1d63565a50>"
            ]
          },
          "metadata": {},
          "execution_count": 33
        },
        {
          "output_type": "display_data",
          "data": {
            "text/plain": [
              "<Figure size 432x288 with 1 Axes>"
            ],
            "image/png": "[encoded data removed]"
          },
          "metadata": {}
        }
      ]
    },
    {
      "cell_type": "markdown",
      "source": [
        "Can you explain the month-wise trend of accidents?\n",
        "\n",
        "Much data is missing for 2016. Maybe even 2017."
      ],
      "metadata": {
        "id": "WXLzBQHKVXKu"
      }
    },
    {
      "cell_type": "code",
      "source": [
        "df.info()"
      ],
      "metadata": {
        "colab": {
          "base_uri": "https://localhost:8080/"
        },
        "id": "p30L7BkJkECL",
        "outputId": "7981487e-fcf2-452d-fcd2-c4ca24907462"
      },
      "execution_count": 34,
      "outputs": [
        {
          "output_type": "stream",
          "name": "stdout",
          "text": [
            "<class 'pandas.core.frame.DataFrame'>\n",
            "RangeIndex: 2845342 entries, 0 to 2845341\n",
            "Data columns (total 47 columns):\n",
            " #   Column                 Dtype         \n",
            "---  ------                 -----         \n",
            " 0   ID                     object        \n",
            " 1   Severity               int64         \n",
            " 2   Start_Time             datetime64[ns]\n",
            " 3   End_Time               object        \n",
            " 4   Start_Lat              float64       \n",
            " 5   Start_Lng              float64       \n",
            " 6   End_Lat                float64       \n",
            " 7   End_Lng                float64       \n",
            " 8   Distance(mi)           float64       \n",
            " 9   Description            object        \n",
            " 10  Number                 float64       \n",
            " 11  Street                 object        \n",
            " 12  Side                   object        \n",
            " 13  City                   object        \n",
            " 14  County                 object        \n",
            " 15  State                  object        \n",
            " 16  Zipcode                object        \n",
            " 17  Country                object        \n",
            " 18  Timezone               object        \n",
            " 19  Airport_Code           object        \n",
            " 20  Weather_Timestamp      object        \n",
            " 21  Temperature(F)         float64       \n",
            " 22  Wind_Chill(F)          float64       \n",
            " 23  Humidity(%)            float64       \n",
            " 24  Pressure(in)           float64       \n",
            " 25  Visibility(mi)         float64       \n",
            " 26  Wind_Direction         object        \n",
            " 27  Wind_Speed(mph)        float64       \n",
            " 28  Precipitation(in)      float64       \n",
            " 29  Weather_Condition      object        \n",
            " 30  Amenity                bool          \n",
            " 31  Bump                   bool          \n",
            " 32  Crossing               bool          \n",
            " 33  Give_Way               bool          \n",
            " 34  Junction               bool          \n",
            " 35  No_Exit                bool          \n",
            " 36  Railway                bool          \n",
            " 37  Roundabout             bool          \n",
            " 38  Station                bool          \n",
            " 39  Stop                   bool          \n",
            " 40  Traffic_Calming        bool          \n",
            " 41  Traffic_Signal         bool          \n",
            " 42  Turning_Loop           bool          \n",
            " 43  Sunrise_Sunset         object        \n",
            " 44  Civil_Twilight         object        \n",
            " 45  Nautical_Twilight      object        \n",
            " 46  Astronomical_Twilight  object        \n",
            "dtypes: bool(13), datetime64[ns](1), float64(13), int64(1), object(19)\n",
            "memory usage: 773.4+ MB\n"
          ]
        }
      ]
    },
    {
      "cell_type": "markdown",
      "source": [
        "### Start Latitude & Longitude"
      ],
      "metadata": {
        "id": "YDOp_UixQ89V"
      }
    },
    {
      "cell_type": "code",
      "source": [
        "df.Start_Lat"
      ],
      "metadata": {
        "colab": {
          "base_uri": "https://localhost:8080/"
        },
        "id": "e9Uayw5UkD_T",
        "outputId": "f73fcdf3-386f-4896-ff88-ac6d634d05de"
      },
      "execution_count": 35,
      "outputs": [
        {
          "output_type": "execute_result",
          "data": {
            "text/plain": [
              "0          40.108910\n",
              "1          39.865420\n",
              "2          39.102660\n",
              "3          41.062130\n",
              "4          39.172393\n",
              "             ...    \n",
              "2845337    34.002480\n",
              "2845338    32.766960\n",
              "2845339    33.775450\n",
              "2845340    33.992460\n",
              "2845341    34.133930\n",
              "Name: Start_Lat, Length: 2845342, dtype: float64"
            ]
          },
          "metadata": {},
          "execution_count": 35
        }
      ]
    },
    {
      "cell_type": "code",
      "source": [
        "df.Start_Lng"
      ],
      "metadata": {
        "colab": {
          "base_uri": "https://localhost:8080/"
        },
        "id": "R3rF7GEbkD8J",
        "outputId": "bc6e02c1-572f-4970-d93d-0eb8b3025141"
      },
      "execution_count": 36,
      "outputs": [
        {
          "output_type": "execute_result",
          "data": {
            "text/plain": [
              "0          -83.092860\n",
              "1          -84.062800\n",
              "2          -84.524680\n",
              "3          -81.537840\n",
              "4          -84.492792\n",
              "              ...    \n",
              "2845337   -117.379360\n",
              "2845338   -117.148060\n",
              "2845339   -117.847790\n",
              "2845340   -118.403020\n",
              "2845341   -117.230920\n",
              "Name: Start_Lng, Length: 2845342, dtype: float64"
            ]
          },
          "metadata": {},
          "execution_count": 36
        }
      ]
    },
    {
      "cell_type": "code",
      "source": [
        "sample_df = df.sample(int(0.1 * len(df)))"
      ],
      "metadata": {
        "id": "3i6lm5ylkD4F"
      },
      "execution_count": 37,
      "outputs": []
    },
    {
      "cell_type": "code",
      "source": [
        "sns.scatterplot(x=sample_df.Start_Lng, y=sample_df.Start_Lat, size=0.001)"
      ],
      "metadata": {
        "colab": {
          "base_uri": "https://localhost:8080/",
          "height": 299
        },
        "id": "IPvov0XFkD0i",
        "outputId": "e2e49d3b-9e7d-4374-ec74-8c03db480e73"
      },
      "execution_count": 38,
      "outputs": [
        {
          "output_type": "execute_result",
          "data": {
            "text/plain": [
              "<matplotlib.axes._subplots.AxesSubplot at 0x7f1d634fe710>"
            ]
          },
          "metadata": {},
          "execution_count": 38
        },
        {
          "output_type": "display_data",
          "data": {
            "text/plain": [
              "<Figure size 432x288 with 1 Axes>"
            ],
            "image/png": "[encoded data removed]"
          },
          "metadata": {}
        }
      ]
    },
    {
      "cell_type": "code",
      "source": [
        "import folium"
      ],
      "metadata": {
        "id": "JKTnbDoykDio"
      },
      "execution_count": 39,
      "outputs": []
    },
    {
      "cell_type": "code",
      "source": [
        "lat, lon = df.Start_Lat[0], df.Start_Lng[0]\n",
        "lat, lon"
      ],
      "metadata": {
        "colab": {
          "base_uri": "https://localhost:8080/"
        },
        "id": "hK1tAeHLRU-S",
        "outputId": "5b328fb8-0976-4ac0-feb8-5f2c1cb9a8f2"
      },
      "execution_count": 40,
      "outputs": [
        {
          "output_type": "execute_result",
          "data": {
            "text/plain": [
              "(40.10891, -83.09286)"
            ]
          },
          "metadata": {},
          "execution_count": 40
        }
      ]
    },
    {
      "cell_type": "code",
      "source": [
        "for x in df[['Start_Lat', 'Start_Lng']].sample(100).iteritems():\n",
        "    print(x[1])"
      ],
      "metadata": {
        "colab": {
          "base_uri": "https://localhost:8080/"
        },
        "id": "EsiRrB7NRU6n",
        "outputId": "6bb3baf2-f52b-42a3-df39-1c109321b8ea"
      },
      "execution_count": 41,
      "outputs": [
        {
          "output_type": "stream",
          "name": "stdout",
          "text": [
            "1163147    35.174022\n",
            "1415800    25.672005\n",
            "1540410    37.839058\n",
            "960734     27.870171\n",
            "751752     42.638825\n",
            "             ...    \n",
            "1857090    34.027627\n",
            "2273841    38.796470\n",
            "1920595    27.291294\n",
            "1285001    35.556668\n",
            "2284408    44.063200\n",
            "Name: Start_Lat, Length: 100, dtype: float64\n",
            "1163147    -80.897064\n",
            "1415800    -80.382019\n",
            "1540410    -75.571608\n",
            "960734     -82.326572\n",
            "751752     -73.605922\n",
            "              ...    \n",
            "1857090   -117.895641\n",
            "2273841    -77.135460\n",
            "1920595    -80.368369\n",
            "1285001    -82.620736\n",
            "2284408   -123.038230\n",
            "Name: Start_Lng, Length: 100, dtype: float64\n"
          ]
        }
      ]
    },
    {
      "cell_type": "code",
      "source": [
        "zip(list(df.Start_Lat), list(df.Start_Lng))"
      ],
      "metadata": {
        "colab": {
          "base_uri": "https://localhost:8080/"
        },
        "id": "ET1qCIC0RU3P",
        "outputId": "6e276190-b849-4071-9d5e-aabb82f66986"
      },
      "execution_count": 42,
      "outputs": [
        {
          "output_type": "execute_result",
          "data": {
            "text/plain": [
              "<zip at 0x7f1d616382d0>"
            ]
          },
          "metadata": {},
          "execution_count": 42
        }
      ]
    },
    {
      "cell_type": "code",
      "source": [
        "from folium.plugins import HeatMap"
      ],
      "metadata": {
        "id": "LSPawNIpRUzo"
      },
      "execution_count": 43,
      "outputs": []
    },
    {
      "cell_type": "code",
      "source": [
        "sample_df = df.sample(int(0.001 * len(df)))\n",
        "lat_lon_pairs = list(zip(list(sample_df.Start_Lat), list(sample_df.Start_Lng)))"
      ],
      "metadata": {
        "id": "pYsheMjQRUwK"
      },
      "execution_count": 44,
      "outputs": []
    },
    {
      "cell_type": "code",
      "source": [
        "map = folium.Map()\n",
        "HeatMap(lat_lon_pairs).add_to(map)\n",
        "map"
      ],
      "metadata": {
        "colab": {
          "base_uri": "https://localhost:8080/",
          "height": 763
        },
        "id": "zevx9sFYRUqq",
        "outputId": "6b06237c-20bc-47f1-83db-7ed9f71ab153"
      },
      "execution_count": 45,
      "outputs": [
        {
          "output_type": "execute_result",
          "data": {
            "text/plain": [
              "<folium.folium.Map at 0x7f1d63510910>"
            ],
            "text/html": [
              "<div style=\"width:100%;\"><div style=\"position:relative;width:100%;height:0;padding-bottom:60%;\"><span style=\"color:#565656\">Make this Notebook Trusted to load map: File -> Trust Notebook</span><iframe srcdoc=\"&lt;!DOCTYPE html&gt;\n",
              "&lt;head&gt;    \n",
              "    &lt;meta http-equiv=&quot;content-type&quot; content=&quot;text/html; charset=UTF-8&quot; /&gt;\n",
              "    &lt;script&gt;L_PREFER_CANVAS=false; L_NO_TOUCH=false; L_DISABLE_3D=false;&lt;/script&gt;\n",
              "    &lt;script src=&quot;https://cdn.jsdelivr.net/npm/leaflet@1.4.0/dist/leaflet.js&quot;&gt;&lt;/script&gt;\n",
              "    &lt;script src=&quot;https://code.jquery.com/jquery-1.12.4.min.js&quot;&gt;&lt;/script&gt;\n",
              "    &lt;script src=&quot;https://maxcdn.bootstrapcdn.com/bootstrap/3.2.0/js/bootstrap.min.js&quot;&gt;&lt;/script&gt;\n",
              "    &lt;script src=&quot;https://cdnjs.cloudflare.com/ajax/libs/Leaflet.awesome-markers/2.0.2/leaflet.awesome-markers.js&quot;&gt;&lt;/script&gt;\n",
              "    &lt;link rel=&quot;stylesheet&quot; href=&quot;https://cdn.jsdelivr.net/npm/leaflet@1.4.0/dist/leaflet.css&quot;/&gt;\n",
              "    &lt;link rel=&quot;stylesheet&quot; href=&quot;https://maxcdn.bootstrapcdn.com/bootstrap/3.2.0/css/bootstrap.min.css&quot;/&gt;\n",
              "    &lt;link rel=&quot;stylesheet&quot; href=&quot;https://maxcdn.bootstrapcdn.com/bootstrap/3.2.0/css/bootstrap-theme.min.css&quot;/&gt;\n",
              "    &lt;link rel=&quot;stylesheet&quot; href=&quot;https://maxcdn.bootstrapcdn.com/font-awesome/4.6.3/css/font-awesome.min.css&quot;/&gt;\n",
              "    &lt;link rel=&quot;stylesheet&quot; href=&quot;https://cdnjs.cloudflare.com/ajax/libs/Leaflet.awesome-markers/2.0.2/leaflet.awesome-markers.css&quot;/&gt;\n",
              "    &lt;link rel=&quot;stylesheet&quot; href=&quot;https://rawcdn.githack.com/python-visualization/folium/master/folium/templates/leaflet.awesome.rotate.css&quot;/&gt;\n",
              "    &lt;style&gt;html, body {width: 100%;height: 100%;margin: 0;padding: 0;}&lt;/style&gt;\n",
              "    &lt;style&gt;#map {position:absolute;top:0;bottom:0;right:0;left:0;}&lt;/style&gt;\n",
              "    \n",
              "    &lt;meta name=&quot;viewport&quot; content=&quot;width=device-width,\n",
              "        initial-scale=1.0, maximum-scale=1.0, user-scalable=no&quot; /&gt;\n",
              "    &lt;style&gt;#map_89d8e7b4e33ecb9400253fb632c98f04 {\n",
              "        position: relative;\n",
              "        width: 100.0%;\n",
              "        height: 100.0%;\n",
              "        left: 0.0%;\n",
              "        top: 0.0%;\n",
              "        }\n",
              "    &lt;/style&gt;\n",
              "    &lt;script src=&quot;https://leaflet.github.io/Leaflet.heat/dist/leaflet-heat.js&quot;&gt;&lt;/script&gt;\n",
              "&lt;/head&gt;\n",
              "&lt;body&gt;    \n",
              "    \n",
              "    &lt;div class=&quot;folium-map&quot; id=&quot;map_89d8e7b4e33ecb9400253fb632c98f04&quot; &gt;&lt;/div&gt;\n",
              "&lt;/body&gt;\n",
              "&lt;script&gt;    \n",
              "    \n",
              "    \n",
              "        var bounds = null;\n",
              "    \n",
              "\n",
              "    var map_89d8e7b4e33ecb9400253fb632c98f04 = L.map(\n",
              "        &#x27;map_89d8e7b4e33ecb9400253fb632c98f04&#x27;, {\n",
              "        center: [0, 0],\n",
              "        zoom: 1,\n",
              "        maxBounds: bounds,\n",
              "        layers: [],\n",
              "        worldCopyJump: false,\n",
              "        crs: L.CRS.EPSG3857,\n",
              "        zoomControl: true,\n",
              "        });\n",
              "\n",
              "\n",
              "    \n",
              "    var tile_layer_5db6a7f6f3377ab4af891726e29da003 = L.tileLayer(\n",
              "        &#x27;https://{s}.tile.openstreetmap.org/{z}/{x}/{y}.png&#x27;,\n",
              "        {\n",
              "        &quot;attribution&quot;: null,\n",
              "        &quot;detectRetina&quot;: false,\n",
              "        &quot;maxNativeZoom&quot;: 18,\n",
              "        &quot;maxZoom&quot;: 18,\n",
              "        &quot;minZoom&quot;: 0,\n",
              "        &quot;noWrap&quot;: false,\n",
              "        &quot;opacity&quot;: 1,\n",
              "        &quot;subdomains&quot;: &quot;abc&quot;,\n",
              "        &quot;tms&quot;: false\n",
              "}).addTo(map_89d8e7b4e33ecb9400253fb632c98f04);\n",
              "    \n",
              "            var heat_map_87525e50681922f580b6a5d722efd618 = L.heatLayer(\n",
              "                [[38.628179, -121.345983], [32.65764, -96.73594], [37.159312, -93.262585], [25.895419, -80.378022], [42.473112, -73.806034], [40.98585, -75.18694], [40.184351, -76.60089599999998], [39.70254, -86.113597], [38.974549, -121.609703], [42.13006, -72.06761], [33.911001, -117.438919], [38.79738, -77.00934000000002], [40.853374, -73.961688], [36.571501, -79.87156], [29.14903, -82.072466], [34.072095000000004, -117.88984], [32.62421, -97.41239], [33.83511, -84.19717], [39.531394, -107.718812], [44.24765, -121.012298], [33.959999, -118.288151], [33.680061, -117.673639], [35.968927, -79.056984], [27.23561, -82.500389], [33.87806, -117.880474], [40.191918, -111.647289], [36.711336, -80.838219], [33.69795, -84.42928], [40.885686, -123.989676], [42.302369, -114.57472], [41.36976, -87.320515], [38.795577, -77.61202800000002], [44.2129, -93.26838], [39.0259, -76.96601], [25.782354, -80.40070899999998], [37.476929, -77.353674], [33.765913, -117.941957], [30.44363, -87.329328], [33.769556, -117.979243], [38.667311, -121.21079], [42.65072, -73.74772], [28.585791, -81.253741], [34.081579999999995, -117.72332], [35.023108, -85.244012], [33.813033000000004, -117.913122], [30.41935, -91.120873], [37.930097, -122.324016], [34.435149, -117.225123], [30.423122, -82.335081], [27.469487, -80.442509], [41.117595, -78.548281], [33.990804, -117.934529], [32.926813, -96.901153], [38.476223, -121.378362], [34.406601, -80.020433], [34.154672, -118.254958], [43.60086, -116.57764], [37.965027, -122.191475], [33.295286, -80.557476], [43.81669, -95.25313], [34.107331, -118.329593], [42.73949, -123.37111000000002], [25.749577, -80.287341], [38.694228, -119.779639], [33.87331, -118.24877], [32.923757, -96.900698], [38.412682, -75.655552], [35.731087, -78.642076], [33.974651, -118.281244], [34.23284, -118.408769], [36.403595, -77.642537], [33.305794, -111.894925], [26.93683, -82.33733199999998], [40.012268, -78.466904], [34.8567, -82.45964000000002], [40.979446, -73.813402], [32.64885, -96.77621], [35.147638, -80.83118499999998], [34.350332, -119.05831200000002], [41.106988, -73.413012], [34.120134, -117.710469], [34.18441, -118.399909], [32.276818, -89.949178], [25.67081, -80.362747], [40.212406, -75.251154], [47.493757, -122.192248], [27.742149, -82.75165799999998], [38.603211, -121.383075], [32.95001, -117.24381], [33.96015, -118.253975], [32.79575, -96.6922], [30.319197, -81.725688], [34.166936, -80.967063], [42.005496, -122.615328], [43.355065, -83.865905], [40.913904, -74.08953699999998], [34.037009000000005, -118.285809], [39.771095, -75.334725], [33.71611, -84.31045], [36.777538, -76.248389], [34.579581, -77.400015], [38.420782, -122.552628], [35.153049, -106.588816], [36.070693, -80.32552700000002], [28.577872, -81.451429], [44.05594, -121.30704], [34.052885, -118.213351], [25.898541, -80.203188], [38.898722, -77.073608], [25.926199, -80.146119], [33.910855, -117.883466], [45.566836, -122.6785], [33.635496, -112.11611], [39.00081, -76.940492], [34.052699, -118.226207], [27.961953, -82.453325], [40.219627, -79.60203], [33.39191, -111.89155], [32.743237, -96.812763], [47.755791, -122.185119], [33.85035, -117.876897], [41.40196, -88.19339000000002], [35.67110200000001, -90.552533], [36.1744, -86.774163], [39.005892, -76.862909], [40.646071, -74.226019], [35.117369000000004, -85.29091899999997], [42.46204, -73.59238], [34.097518, -117.541521], [32.77872, -117.11228], [33.790438, -118.280979], [33.524386, -81.726016], [33.987712, -118.362055], [26.67909, -80.1453], [34.040826, -118.218694], [29.754575, -95.60986], [35.050969, -85.301886], [38.62918, -121.50893], [26.154599, -81.33860200000002], [30.455467, -86.634956], [34.419811, -118.435589], [26.199055, -80.148535], [34.200649, -79.768398], [25.901416, -80.385257], [34.065009, -117.301315], [44.07982, -121.30166], [38.350572, -77.05231500000002], [34.006996, -117.965023], [38.84485, -77.00721999999998], [25.875424, -80.20874], [30.244702, -81.600837], [36.038606, -86.78614499999998], [44.659527, -85.87469399999998], [43.011089, -83.726089], [34.041757000000004, -118.567637], [33.69743, -84.40512], [34.056921, -117.29826], [33.91173, -118.16892], [32.90139, -117.224575], [45.630572, -121.21329], [34.883072, -120.431374], [45.033875, -92.980766], [34.056314, -117.54646], [37.983995, -77.492591], [39.956689, -75.18047], [39.856519, -75.098301], [34.004107, -117.405896], [45.750994, -94.997386], [30.603672, -87.132257], [42.94688, -71.46158], [26.378517, -80.113466], [45.205038, -93.393155], [34.120811, -117.88642], [37.646226, -121.016628], [33.55969, -112.03887], [38.968564, -81.69398000000002], [40.463499, -111.383246], [40.65658, -73.56770999999998], [41.15898, -121.661127], [34.161392, -118.470014], [40.729933, -73.97241700000002], [40.435558, -79.978526], [38.86165, -94.52733], [39.29922, -94.68617], [40.851598, -74.424852], [38.114893, -85.713036], [39.8914, -85.93808], [33.58806, -84.50859], [35.029346000000004, -85.22941800000002], [35.776829, -78.611664], [37.261877, -119.93931], [33.869529, -117.67176], [34.003772999999995, -118.280919], [35.473791, -78.372849], [33.968167, -118.167854], [36.94419600000001, -76.26650699999998], [38.685777, -121.539987], [45.71909, -111.06998], [34.070869, -117.888622], [33.79578, -84.39260999999998], [35.338179, -80.963089], [42.87234, -83.5964], [40.99507, -76.64652], [35.245419, -80.86605], [36.833785, -76.286731], [37.33902, -120.522454], [44.86223, -93.23779], [28.260595, -80.722311], [43.029901, -78.00424], [40.703661, -74.246883], [33.974486, -118.281004], [33.052493, -117.288558], [42.97323, -85.68034], [45.5062, -122.7514], [33.946316, -117.067021], [39.7941, -75.11406], [40.525485, -74.343935], [44.91435, -93.27503], [39.65333, -77.763601], [40.118529, -75.135921], [40.43804, -74.16458], [34.110757, -118.263605], [33.968385, -111.38813799999998], [33.842042, -118.286251], [39.270588, -78.34644200000002], [32.702511, -96.93395], [28.604761, -81.723507], [34.77212, -82.4669], [45.58047, -122.54358], [33.82065, -84.361], [35.089202, -79.76186700000002], [33.968167, -118.167854], [25.73521400000001, -80.319257], [40.06986, -75.150672], [29.719423, -95.496114], [40.736727, -73.605653], [25.920771, -80.210312], [32.658190000000005, -117.08624], [45.528399, -122.653573], [38.243667, -122.09017], [34.034127000000005, -118.364793], [35.13557, -89.86801], [36.970467, -121.873158], [27.493977, -82.490863], [27.767055, -82.648167], [33.656777000000005, -111.91913], [41.85966, -88.03376999999998], [41.546223, -73.02670400000002], [39.80185, -86.08998000000004], [29.182305, -81.304476], [25.988878, -80.16583], [25.672033, -80.381146], [29.732349, -95.361637], [33.925556, -118.313417], [39.747292, -84.214484], [30.003629, -90.03191600000002], [34.170578000000006, -118.304515], [34.044188, -118.171399], [28.226307, -80.671547], [28.647026, -81.994843], [36.72785, -119.951869], [37.525069, -120.798319], [25.826054, -80.289637], [34.191142, -117.361313], [44.057938, -121.220805], [38.87025, -77.15443], [39.26623, -76.61483199999998], [29.991561, -90.053635], [33.973851, -118.234564], [39.699021, -86.25747], [30.419416, -91.095601], [34.124532, -81.02900799999998], [32.67624, -97.24047], [34.06104000000001, -118.24729], [36.940422, -121.797799], [34.081485, -117.728209], [42.316382, -83.168572], [41.969414, -86.374286], [34.040508, -118.189242], [37.696725, -121.406388], [32.836986, -96.976693], [36.959955, -120.063044], [33.913668, -118.104754], [30.68118, -87.9923], [33.19018, -111.998308], [39.754607, -122.215257], [25.672005, -80.382019], [34.200171000000005, -117.859407], [35.26443, -80.84297], [37.002597, -120.097062], [29.960079, -90.07706], [38.017537, -122.094743], [40.119341, -87.182835], [39.87702700000001, -86.288577], [33.931242, -118.394004], [38.67546, -90.02065], [42.7071, -73.85878000000002], [27.495134000000004, -82.636573], [38.041316, -103.690525], [25.6858, -80.399129], [40.786885, -75.092091], [41.99797, -75.75178000000002], [41.9003, -87.91969], [34.23444, -119.165293], [46.892319, -98.846601], [28.042522, -80.65442], [38.834594, -76.870238], [40.39235, -111.83588], [27.968032, -82.752669], [35.009917, -81.97941800000002], [25.944209, -80.180293], [34.17343, -117.327576], [39.375761, -77.233489], [45.137918, -93.494101], [34.06759, -83.72358], [35.51769, -78.66483000000002], [38.25962, -121.29682], [34.214012, -118.408153], [38.991873, -76.886515], [28.015205, -82.732414], [44.855423, -123.963686], [33.910975, -118.168819], [41.546938, -72.78308299999998], [34.072063, -118.07308], [39.642587, -86.074115], [28.191209000000004, -82.462902], [25.783827, -80.304748], [28.223988, -82.733757], [38.878256, -76.993193], [33.87608, -118.128989], [33.99557, -118.17683], [25.602232, -80.37746700000002], [38.44708, -105.193846], [27.90922, -82.34078000000002], [34.062197999999995, -118.985536], [30.195969, -98.330194], [26.084986, -80.202845], [38.216704, -122.603634], [32.682525, -96.807667], [40.24269, -74.08646], [42.873218, -78.814898], [42.276474, -85.317189], [33.951441, -117.551004], [34.03049, -117.66272], [28.690892, -81.388467], [35.310383, -119.002976], [38.865279, -77.329251], [46.975711, -94.72848], [26.37427000000001, -80.11654], [35.065001, -80.84054499999998], [41.471776, -81.65986], [25.784157, -80.217872], [33.97435, -118.124088], [45.340298, -95.0914], [33.833866, -117.875982], [33.855791, -118.019901], [33.934033, -118.300307], [40.879215, -76.018964], [34.072497, -117.940643], [39.38543, -123.302525], [34.03119, -118.03068], [30.690361, -86.032336], [34.171246000000004, -118.521548], [40.666311, -73.79925300000002], [33.867889, -79.496398], [39.055949, -76.928403], [41.120978, -73.328064], [35.81297199999999, -78.679218], [44.453527, -121.974563], [48.35452, -114.241115], [41.444281, -74.06620799999997], [28.56681, -81.206435], [40.52617100000001, -74.323915], [41.616156, -72.681126], [42.344664, -83.113026], [43.610675, -121.552652], [40.723861, -73.537577], [37.740676, -121.504185], [41.121751, -111.764699], [32.972831, -96.821621], [43.04818, -77.46887], [32.84619, -96.77307], [40.608311, -74.128693], [29.966338, -90.048934], [32.779197, -117.070123], [40.394379, -78.43596], [38.91626, -94.76766], [33.294174, -85.079321], [36.04523, -86.714733], [41.877189, -83.661392], [42.482661, -73.665357], [38.878281, -77.39057199999998], [38.942315, -121.095754], [34.028255, -118.433025], [38.6467, -77.28480400000002], [37.881911, -122.308246], [38.418395, -82.259662], [38.119651, -79.044329], [36.687517, -119.754684], [27.295835, -82.530486], [36.646835, -119.349274], [38.505622, -121.455968], [37.581466, -77.469564], [43.8526, -123.0203], [35.154434, -80.947388], [44.96705, -93.22389], [32.71821, -96.82807], [35.841729, -78.67896999999998], [42.15744, -71.96039], [29.526422, -98.39309], [27.21467100000001, -82.49038399999998], [35.137051, -80.905739], [38.487161, -121.424884], [45.511411, -94.279335], [38.918219, -76.915615], [37.851357, -122.299337], [34.378827, -117.418838], [28.452939, -81.400159], [42.31149, -87.905252], [34.842699, -82.444914], [40.81172, -74.30581], [37.375189, -121.933033], [35.258809, -78.62382099999998], [36.794217, -119.706695], [44.865422, -93.396544], [25.930562, -80.29337], [39.96524, -74.91301999999997], [37.307327, -77.39536600000002], [41.889716, -112.507447], [37.21613, -76.59669], [37.48441, -122.18433], [41.7046, -87.59156], [29.082237, -81.01669100000002], [33.788927, -117.49859], [40.789267, -111.91508600000002], [29.021075, -82.156309], [42.84015, -117.62467], [44.174277, -93.933123], [41.671217, -114.829005], [42.484441, -83.448125], [34.791798, -118.834708], [34.036390000000004, -117.3222], [34.16534, -118.46973], [38.980285, -76.32638], [47.67773, -122.32047], [38.91005, -76.93597], [33.938204, -118.309023], [40.778481, -74.048445], [33.6324, -84.40643], [26.12938, -80.21771], [38.681156, -121.333395], [30.1113, -97.30755], [25.686208, -80.386814], [33.512965, -112.082475], [39.01305, -77.144806], [30.56952, -84.393635], [29.936703, -95.26244], [36.1583, -86.79134], [39.763754, -84.215067], [34.03771500000001, -117.805055], [34.24408, -114.166916], [33.658365, -117.295178], [30.455254, -91.092104], [38.64281, -121.12187], [35.11188, -80.68302], [25.560835, -80.38448299999997], [34.117737, -117.907719], [34.03474, -118.34277], [39.220815, -76.655141], [37.988008, -120.999909], [26.33823, -81.79108000000002], [34.8272, -82.29316999999998], [35.374022, -118.967397], [38.811799, -77.146825], [32.425672, -86.365276], [34.06774, -117.83548], [40.315843, -74.48890300000002], [42.220912, -87.898016], [38.87986, -76.999849], [39.798931, -104.986444], [32.837103000000006, -97.024598], [37.38859, -121.86752], [41.75952, -72.64124], [32.088713, -110.959258], [38.799719, -90.62055], [40.03499, -111.52398], [27.460753000000004, -82.587552], [42.40155, -122.93543], [40.62092, -111.97632], [37.501074, -77.06445500000002], [37.287164, -79.914116], [37.020308, -119.526549], [45.14471, -93.83684], [44.43938, -117.324283], [25.703968, -80.36631700000002], [34.079190000000004, -117.73894], [44.721437, -94.495201], [37.66351, -122.10607], [34.150518, -117.322987], [34.608756, -79.086699], [45.51383, -122.68932], [38.84617, -77.43339], [25.890143, -80.189184], [38.496404, -121.098722], [37.426057, -76.836529], [45.074704, -93.331335], [38.260218, -77.125788], [30.480067, -91.089736], [41.792122, -124.067006], [28.611489, -81.278488], [40.213904, -75.453402], [29.76916, -95.33565], [35.780879, -78.629703], [33.960563, -117.313036], [30.42847, -91.171342], [34.508579, -118.364908], [25.795911, -80.33691400000002], [25.76842000000001, -80.370284], [33.515832, -84.24320999999998], [33.819534000000004, -117.359928], [35.880393, -78.64891800000002], [38.63809000000001, -90.43615], [32.380212, -90.147048], [34.95224, -82.185248], [33.00645, -96.85321], [37.828019, -122.294429], [37.979881, -121.263044], [41.40406, -81.46384], [35.096769, -106.724209], [45.175781, -93.527592], [40.7559, -111.91228], [32.687479, -117.113953], [39.022835, -76.945284], [36.79607, -76.38458], [34.098964, -118.24705], [33.858781, -78.657348], [35.211217, -78.659609], [32.720335, -117.102806], [25.88019, -80.20895], [32.313806, -95.315847], [40.98749, -73.68021], [35.013603, -85.18279], [37.549812, -122.054658], [47.47632, -122.203526], [34.968534000000005, -82.030971], [34.858766, -82.25950999999998], [34.071162, -117.759145], [25.711075, -80.281238], [34.927841, -82.344776], [34.254048, -117.448559], [40.616453, -111.905409], [34.011752, -118.159226], [26.397669, -80.090884], [39.86113, -86.27176], [40.483042, -76.25905300000002], [41.506503, -112.015839], [34.087169, -117.679154], [39.381486, -77.40930300000002], [33.950538, -118.229469], [34.068283, -118.150994], [25.827377, -80.36873], [35.055791, -118.96712], [40.802519, -74.072737], [35.055688, -85.309728], [28.540192, -81.309043], [44.543758, -93.687361], [28.22131, -82.66598], [37.715206, -122.172632], [30.139242, -90.744484], [42.195888, -87.989426], [47.525834, -122.689121], [25.769722, -80.333529], [39.03250300000001, -94.852792], [34.365565999999994, -118.556824], [41.888415, -122.493394], [34.052609999999994, -118.44967], [26.325, -80.11683000000002], [33.879898, -117.605419], [34.068668, -117.842876], [34.001684999999995, -117.95491], [37.824994, -122.232187], [39.87213, -75.08524], [33.409173, -111.972656], [32.235463, -110.708187], [25.686308, -80.41669], [37.44759000000001, -122.12151], [43.15933, -77.64399999999998], [39.779608, -105.137845], [33.936837, -117.121376], [38.573802, -121.581112], [33.93934, -117.186949], [33.994238, -117.904097], [39.959502, -75.579912], [45.44649, -123.84081], [33.46252, -112.470978], [41.91895, -88.0323], [44.928222, -123.252622], [35.25889, -80.87317], [30.00825, -90.26056], [41.83682, -71.421425], [45.624415, -93.613588], [36.986643, -121.984709], [35.233873, -80.85826899999998], [39.9599, -75.17539000000002], [25.945475, -80.121115], [27.893883, -82.33628], [45.04216, -122.79331], [27.894429, -82.76249399999998], [37.793505, -122.263985], [36.748959, -119.776073], [36.838754, -76.15950500000002], [38.80185, -77.51633000000002], [39.838743, -104.98386], [38.047543, -122.234949], [27.455333000000003, -82.54818900000002], [40.92553, -74.08811], [38.511947, -78.782241], [36.803557, -76.18724399999998], [40.216672, -76.434159], [38.692233, -114.628874], [34.029255, -117.715557], [38.672169, -77.24684], [34.137147, -117.62524], [30.4666, -84.268539], [33.570572, -112.224855], [32.75515, -117.202185], [35.83410900000001, -78.673004], [32.82618, -96.752888], [28.611123, -81.42939799999998], [38.744229, -121.540192], [35.122784, -78.750495], [40.74159, -111.903622], [25.96359, -80.150464], [47.380541, -122.290956], [44.61771, -124.05148], [35.5245, -97.53718], [40.91042, -74.56411], [39.165083, -94.494908], [39.782963, -86.146491], [33.876529999999995, -118.0927], [40.85903, -73.07916999999998], [35.209668, -111.522736], [45.290611, -92.979322], [26.164226, -81.68677], [46.937359, -96.85211], [39.31053, -76.541136], [34.433539, -118.385685], [32.346019, -111.106779], [48.03343, -122.11047], [36.00105, -79.78765], [34.015190000000004, -117.81851], [26.40183, -80.090085], [33.859916, -118.295277], [34.06723, -117.53025], [41.45467, -72.52643], [38.20788, -78.38626], [40.048301, -75.716676], [42.50106, -83.11629], [42.66983, -73.73818], [35.76778200000001, -78.515263], [34.136362, -117.536615], [40.286418, -74.73261600000002], [36.140684, -86.73218299999998], [34.423431, -112.054759], [42.227914, -121.765613], [25.68359, -80.3545], [46.021932, -122.851384], [36.258833, -86.713404], [37.49028, -121.94523], [42.381955, -88.00418], [35.98386, -79.82396999999997], [33.65194, -78.98451], [39.880038, -76.015895], [39.8327, -75.70749], [40.74263, -95.385316], [26.596362, -81.890836], [38.960813, -76.655956], [44.904144, -93.134405], [41.06028, -81.56647], [33.237001, -87.560957], [41.85571, -87.64464], [28.356148, -80.700087], [40.19885, -104.97993999999998], [38.726454, -121.380794], [41.23695, -73.02577], [25.928304, -80.193252], [33.634894, -117.338062], [38.538259, -121.473646], [25.897225, -80.24481800000002], [39.96297, -78.56056], [41.81449, -96.439458], [34.152386, -118.100067], [38.671352, -121.586093], [28.54828, -81.16313000000002], [46.270995, -95.648306], [38.95783, -77.192269], [42.11092, -88.18073000000004], [40.862325, -74.059332], [36.091144, -86.704212], [34.037781, -118.281464], [45.11438, -122.871404], [34.070924, -117.611879], [37.373648, -113.252355], [28.601143, -81.40336500000002], [40.038077, -76.321507], [37.822695, -122.260875], [39.69706, -86.18261], [43.6176, -122.082771], [34.045884, -117.990724], [29.052029, -82.270114], [25.760884, -80.40085], [41.23845, -76.9988], [45.680621, -118.898149], [38.70396, -121.371446], [33.912859999999995, -118.14588], [32.133429, -111.106031], [41.87257, -87.81845], [38.167016, -121.596234], [37.053854, -122.039783], [42.430375, -123.252688], [37.588944, -121.870684], [43.07989600000001, -89.376976], [33.838802, -117.533508], [40.668118, -111.90154], [39.0923, -94.54332], [41.854337, -72.385987], [35.382381, -119.044343], [47.62021, -122.30251], [37.571013, -122.265398], [36.204106, -121.134378], [39.05358, -94.47833], [27.712457, -82.376018], [41.336735, -77.474952], [35.914224, -83.363727], [41.828029, -71.418126], [45.3624, -93.82866], [40.92191500000001, -74.85932700000002], [39.026695, -104.833423], [39.226888, -78.13685699999998], [33.922082, -117.88031399999998], [40.573781, -75.875263], [42.87881, -85.375615], [37.37989, -121.85828], [28.412628, -81.42340899999998], [43.017997, -74.98610500000002], [33.89383, -118.04679], [40.113658, -75.349877], [47.358194, -121.368459], [47.466119, -121.930764], [44.95606, -93.19256], [29.410554, -98.479701], [25.769442, -80.33892900000002], [33.676752, -117.75752], [33.897703, -117.478557], [32.95941, -97.03969], [42.157978, -121.799062], [37.558857, -77.415436], [32.996035, -117.256534], [41.695115, -91.714709], [37.258175, -122.121538], [35.740757, -78.649189], [34.005218, -81.279636], [28.407493, -81.40349], [35.013753, -85.230145], [25.463013, -80.482887], [40.27717, -80.32862], [36.544686, -119.283956], [35.148540000000004, -80.83086], [28.728216, -81.50898199999997], [33.82195, -118.20685], [43.267076, -73.584836], [34.068189000000004, -118.035979], [42.437254, -122.8815], [37.671445, -77.459498], [28.00161, -80.587425], [25.58452, -80.352547], [26.326364, -81.748827], [38.912412, -78.49701999999998], [38.49612, -121.460449], [40.71945, -111.866758], [48.36049600000001, -93.668414], [34.10909, -118.24956], [33.92776, -118.257961], [28.076569, -82.138017], [33.67993, -117.87937], [35.152945, -119.449917], [42.93660300000001, -85.680243], [43.16187100000001, -77.681747], [33.68234, -117.855814], [42.960933, -85.590236], [41.023968, -121.424651], [36.21084000000001, -119.17193], [40.62943, -73.88748000000002], [28.454246, -81.399773], [38.8545, -94.52849], [26.111266, -80.168516], [34.145455, -80.747043], [34.12117, -117.83276], [47.5803, -122.16587], [37.356888, -121.869014], [42.091681, -86.49525], [43.131708, -77.650926], [32.85113, -96.56788], [33.76774, -84.5322], [34.070282, -117.864295], [40.35981, -74.07967], [42.161151, -88.050543], [36.94778400000001, -81.05747099999998], [29.967939, -90.107509], [25.885453, -80.243229], [34.010233, -118.160044], [37.25068, -121.95834], [32.380178, -88.650826], [38.70194, -121.36365], [28.099976, -82.502202], [30.18181, -97.77623], [35.1121, -90.028849], [39.381211, -77.26949499999998], [25.70081, -80.376204], [25.834915, -80.241233], [37.81178, -79.84751999999997], [30.440254, -97.662223], [33.876853999999994, -118.10994], [30.166907, -97.782241], [30.22587, -97.74578], [46.310315, -95.450303], [25.596881, -80.354884], [40.666336, -75.310096], [39.64634, -75.76102], [34.027866, -118.251739], [34.498969, -118.625704], [30.349715000000003, -97.524789], [34.880112, -82.055422], [43.219, -124.3057], [33.690109, -117.768278], [38.001075, -122.053481], [47.85983, -121.82417], [35.914038, -82.756973], [28.286075, -81.349737], [34.162639, -79.754808], [38.58639, -121.448472], [37.257224, -121.954613], [34.03686, -118.28401], [28.452287, -81.47081800000002], [41.29672, -72.91666], [41.763439, -72.639714], [42.309725, -73.870858], [30.451799, -91.30131], [25.701753, -80.34628199999999], [39.77317100000001, -104.837347], [37.100625, -121.011382], [34.538215, -92.669538], [42.420926, -87.826929], [40.699054, -73.996718], [39.236179, -110.338729], [39.125607, -121.575218], [33.974373, -118.226694], [33.901823, -118.381518], [28.49831, -81.42926], [38.891676, -121.125372], [43.93497, -93.70185], [33.629639000000005, -117.666473], [34.12656, -118.27315], [40.71111, -73.95532], [37.8099, -121.991802], [38.127814, -103.995108], [35.641294, -78.837192], [34.117622, -117.828843], [34.050486, -117.937956], [33.72254, -84.93258], [36.038919, -86.785964], [41.8104, -88.03260999999998], [34.272585, -118.315357], [38.573802, -121.581112], [40.289876, -75.15350500000002], [27.44874, -82.432711], [25.566688, -80.35181899999998], [35.961114, -119.290569], [30.49472, -91.16189], [35.55337700000001, -120.708776], [27.447503, -82.485084], [28.451003000000004, -81.35939300000003], [35.75184, -78.6955], [36.148828, -86.762455], [28.02985, -82.5444], [44.972089, -93.251328], [31.54791, -83.53298000000002], [29.69245, -82.449742], [37.388965, -120.727874], [43.61163, -92.85156], [26.286927, -80.124596], [37.581246, -122.325401], [39.12996, -121.585983], [39.74899, -84.13378], [37.27306, -121.94672], [40.71945, -111.866758], [35.72476, -86.322487], [39.721469, -76.15433399999998], [37.51147, -121.93808], [40.741322, -73.72726800000002], [40.748114, -74.166668], [36.79057, -76.114643], [40.84616, -111.91491], [40.08342800000001, -74.93459200000002], [39.88344, -83.09255], [34.810590000000005, -82.239765], [39.93554, -75.07936099999998], [40.718861, -73.946238], [33.656709, -117.084421], [28.596383000000003, -81.44370699999997], [33.911735, -118.15995], [38.145438, -121.643495], [37.606161, -122.06144], [30.19727, -95.18762], [35.121992, -118.914653], [37.540904, -122.516483], [34.425284000000005, -118.423635], [34.146759, -118.370246], [34.05191, -118.44958], [34.347021000000005, -117.476956], [39.276906, -76.619907], [33.986345, -117.346376], [42.493798, -83.298381], [27.95325, -82.50851999999998], [33.86898, -117.73051], [39.102376, -85.743524], [34.066832, -117.512499], [34.962205, -81.974304], [40.42747, -78.11738299999998], [44.791025, -93.404846], [34.132017, -118.350209], [42.34223, -87.95382], [34.010166, -117.884171], [38.631751, -121.504532], [37.31453, -121.82792], [25.882866, -80.248094], [44.97041, -93.34599], [33.510863, -86.792454], [41.47533, -81.66027], [33.484728999999994, -117.142009], [36.103921, -86.715613], [34.06547, -117.25634], [41.81535, -87.95053], [27.421991, -82.546715], [42.62796, -71.17895], [41.016308, -73.72430200000002], [44.971353, -93.46028], [45.729399, -120.652574], [29.848968, -95.473239], [32.806227, -96.829894], [37.57601, -77.46281], [28.553044, -81.504956], [27.44727, -82.5305], [37.993588, -122.531854], [34.0303, -117.65524], [35.72943, -78.43885999999998], [34.127582000000004, -117.915784], [41.261805, -75.897213], [37.753475, -79.41228000000002], [32.924482, -96.775679], [29.837237, -95.384295], [37.431452, -77.610563], [25.78628, -80.21266], [43.214342, -123.266831], [41.554608, -73.05524399999999], [41.02475, -80.76092], [36.850301, -120.772372], [38.702154, -120.811476], [35.229476, -80.83094200000002], [45.529978, -122.646594], [47.087888, -122.644757], [37.396652, -120.614303], [34.185320000000004, -118.3185], [34.205124, -118.199402], [36.489674, -119.518903], [42.24084000000001, -83.75706], [40.570297, -124.138714], [25.866079, -80.250715], [29.50166500000001, -98.399641], [38.88300200000001, -77.03134], [29.979703000000004, -90.046852], [25.568344, -80.379522], [28.23022000000001, -80.71264000000002], [33.938064000000004, -118.094424], [37.31641, -121.95618], [36.86808900000001, -76.418226], [42.96997, -74.02915], [34.016535, -117.741138], [39.21238, -84.47418], [38.77126, -90.28436], [34.923407, -120.37398799999998], [25.789997, -80.32405899999998], [25.90037, -80.178197], [37.351466, -121.914328], [33.516636, -112.159868], [38.41899, -121.89361], [39.63856, -104.71635], [36.091068, -86.686318], [34.09257, -117.898979], [26.545553, -81.83922199999998], [28.449873, -81.475353], [26.330456, -81.81423199999998], [34.426520000000004, -117.531886], [34.49847800000001, -82.282105], [39.36138, -119.23655], [40.803684, -73.913692], [25.94975, -80.43205], [38.88951, -77.16405], [34.071914, -117.894166], [29.802792, -95.482896], [40.246812, -75.678821], [37.62215, -77.52663000000003], [37.74211, -121.5246], [34.068155, -117.389606], [36.48207, -77.60515500000002], [39.434335, -123.312225], [46.907908, -100.930397], [36.778696, -119.97007], [32.12507, -111.19573], [31.83364000000001, -106.4399], [35.035424, -85.254983], [33.92545, -118.337229], [39.171221, -123.211377], [42.489583, -83.422844], [25.598539, -80.356078], [36.848069, -120.772608], [28.874216, -82.48953900000002], [38.050205, -77.340535], [33.93759, -117.40198], [40.752025, -73.746732], [36.33995, -121.25557], [33.9534, -118.300245], [45.506849, -122.711707], [33.629641, -84.414642], [34.151376, -109.97329], [43.389449, -123.337325], [39.137307, -76.75721899999998], [44.869505, -93.06069], [38.686018, -121.333251], [36.984181, -119.65962], [45.477064, -122.678771], [33.775434000000004, -118.087731], [39.816291, -123.561978], [29.737713, -95.499416], [34.096269, -117.488764], [28.19441500000001, -82.363185], [45.07553, -93.446008], [39.842068, -105.039589], [33.759506, -117.969266], [41.76214, -87.86674000000002], [38.622604, -121.419206], [33.983828, -118.241199], [47.85291, -122.25628], [34.020343, -118.424737], [25.888473, -80.32400799999998], [38.66988, -77.25759000000002], [32.923525, -96.755872], [40.636252, -111.904969], [33.61730900000001, -117.628594], [29.835891, -95.37148], [40.76652, -73.68774], [34.012169, -118.135451], [41.070021, -122.359467], [40.14371, -75.497344], [28.067485, -82.749083], [32.909084, -96.897626], [30.00989, -90.02086], [37.976135, -122.072134], [40.594252, -111.90258], [39.095309, -120.949505], [34.07152, -117.789871], [34.02425, -117.3353], [28.597576, -81.297676], [39.13872, -94.566909], [32.642324, -96.779266], [38.8796, -121.29528], [39.040633, -121.471681], [40.7701, -73.868176], [32.350629999999995, -95.314492], [39.33445, -76.49025999999998], [34.02779, -117.75381000000002], [41.9737, -88.1503], [30.5374, -87.19516], [36.996041, -121.71711], [37.994604, -122.069421], [34.044754, -118.220999], [32.87535, -96.7701], [25.769711, -80.335312], [45.782872, -110.057827], [42.402924, -82.96764399999998], [32.8371, -97.00679], [45.882058, -123.561147], [25.760418, -80.385149], [32.405188, -86.30850600000002], [38.94512, -85.8434], [42.730412, -73.70268100000001], [37.688965, -122.135624], [37.906641, -77.459423], [39.083221, -94.592939], [38.565276, -121.513696], [34.822443, -92.341493], [39.417208, -76.629836], [37.907097, -122.314912], [33.898605, -117.476559], [30.334382, -97.75032], [35.277408, -80.834638], [40.0374, -76.40742], [41.88658, -71.37885], [39.35732, -76.6499], [43.10522, -75.23631999999998], [40.53384000000001, -74.3775], [32.75972, -97.05298], [42.904754, -73.787537], [37.13423, -76.52485], [43.03955, -85.66249], [32.960738, -80.197535], [45.37986, -122.75384], [32.736715000000004, -96.823571], [33.766039, -117.954615], [40.708173, -73.957204], [40.85306, -73.96011], [36.805959, -119.883509], [38.51158, -77.376369], [25.956756, -80.293025], [35.24827, -82.33139], [38.66959, -77.25753], [32.923934, -96.768962], [33.8085, -118.08161], [33.873396, -118.028706], [45.151072, -122.882198], [38.49291, -121.44275], [32.582146, -93.800451], [26.3082, -80.11865999999998], [41.65227, -93.73025], [35.834237, -78.299549], [28.23215200000001, -80.725714], [45.02097, -93.18925], [38.552578, -121.414832], [33.973974, -118.163813], [33.853058000000004, -117.8839], [25.746199, -80.434754], [42.91275, -122.32257], [38.212243, -120.755946], [34.409116999999995, -80.173385], [44.98093400000001, -93.348115], [37.690511, -122.078223], [36.083039, -86.698297], [43.64975, -72.2526], [34.079274, -118.15195], [33.99712, -117.8657], [37.415143, -76.62172], [25.846208, -80.233581], [33.985571, -117.903913], [37.00666, -76.4005], [33.919709999999995, -118.283717], [33.914483000000004, -118.104926], [45.732477, -120.188882], [35.197348, -80.79239399999999], [32.429411, -111.324633], [36.073436, -86.692159], [42.11054, -88.09421999999998], [37.963394, -122.355043], [40.78508, -77.784672], [40.712982, -111.817034], [25.702121, -80.337124], [35.262639, -80.829121], [40.987458, -73.68044], [34.238640000000004, -88.3458], [33.822743, -118.197973], [28.520952, -81.459298], [42.387753, -87.94915], [41.565538, -93.862026], [32.893515, -80.01844], [35.39142899999999, -118.96953700000002], [33.825759000000005, -118.241783], [30.4503, -91.15588], [42.32824, -83.44366], [28.451712, -81.230333], [30.170939, -97.69112], [36.073631, -79.174196], [25.796996, -80.334137], [38.903735, -77.028075], [25.869332, -80.20797900000002], [36.16481, -95.94924], [34.655932, -82.83553], [35.742973, -78.680363], [32.831509999999994, -96.78069], [28.32122, -82.50310999999998], [40.696175, -73.977339], [33.74227, -84.391459], [44.864564, -123.22911], [40.727141, -77.00761700000002], [28.341649, -81.403841], [30.429283, -91.057218], [45.29076, -93.77062], [34.08599, -118.21589], [39.102784, -84.287909], [46.33227700000001, -94.795938], [33.970956, -117.896197], [29.69691, -95.289384], [36.48876, -84.215215], [33.323166, -87.605023], [33.94504000000001, -118.0993], [38.125212, -121.578398], [40.772257, -111.939167], [29.028398, -82.065333], [38.05771, -78.500342], [41.263193, -73.683412], [25.702162, -80.336089], [32.767957, -96.802151], [33.914483000000004, -118.104926], [34.011353, -118.494683], [36.94097100000001, -76.265835], [43.07031, -88.5552], [34.003694, -118.289506], [30.419951, -97.587314], [41.99749, -87.70452], [36.1775, -115.1505], [33.994431, -117.888525], [34.154166, -118.345058], [38.667603, -77.015052], [25.921792, -80.244411], [26.547537, -81.784631], [45.02652, -92.95991], [29.909297, -97.899688], [34.083459999999995, -117.69389], [28.449892, -81.48461], [40.064123, -75.14071899999998], [41.028236, -73.601998], [33.89459, -117.5577], [33.525294, -112.134263], [41.40508, -79.832334], [34.037586, -118.086264], [40.32324600000001, -75.93010699999998], [35.537771, -120.829719], [38.296301, -77.51986600000002], [30.41302, -91.066929], [35.5455, -78.935369], [41.775501, -93.814197], [36.109149, -80.236526], [39.028686, -76.503493], [45.483201, -118.404761], [40.3251, -76.79934], [38.333584, -85.82299499999998], [30.46374, -90.92098], [28.26153, -80.68808], [42.31437, -71.36058], [36.423843, -119.762367], [42.153706, -88.033526], [43.176551, -76.095323], [33.687258, -117.872074], [38.91745, -76.97256999999998], [36.272531, -77.721179], [27.069035, -82.095412], [38.31759, -81.713708], [36.251207, -121.787037], [33.986304, -117.346364], [33.925789, -118.308976], [40.84508, -73.9192], [34.006558, -117.06631000000002], [25.73260100000001, -80.35358599999998], [40.31191, -111.72288], [41.497396, -95.222154], [33.971515999999994, -117.911577], [36.15404, -86.75744], [28.48842, -81.28531], [37.82617, -122.27674], [40.715576, -74.137588], [39.725242, -105.175992], [35.15317, -90.06824499999998], [45.268543, -93.008994], [38.95959000000001, -76.866327], [25.792857, -80.332453], [30.00507, -90.03358], [33.864490999999994, -98.620318], [34.066934, -117.448671], [37.773925, -87.108696], [40.648105, -73.914723], [37.201571, -119.722867], [27.745003000000004, -82.677328], [36.149261, -86.85789799999998], [41.104188, -74.076763], [39.375675, -77.233103], [37.996809000000006, -122.328146], [40.044587, -80.648831], [46.743004, -92.154492], [36.857518, -76.176716], [41.278547, -111.983854], [39.406231, -77.43328199999998], [38.781941, -77.450165], [45.532268, -122.565826], [29.737416, -95.623748], [41.844154, -123.98483799999998], [42.02895, -83.67865], [38.657058, -78.67016600000002], [43.12742100000001, -75.324035], [34.143044, -117.318265], [37.9984, -121.80057], [33.467779, -81.872823], [42.29191, -84.25693000000003], [46.949332, -114.13126499999998], [41.104584, -73.428572], [32.420488, -96.659464], [32.029532, -81.268371], [40.398029, -79.46520799999998], [38.58434000000001, -121.50307], [33.550523, -84.567341], [29.59798, -95.36418], [45.703125, -120.716556], [38.198608, -122.160829], [35.75299000000001, -78.64896999999998], [41.42161, -82.08327], [39.25396, -94.60935], [25.898588, -80.292828], [39.93099, -83.01059000000002], [32.573234, -93.781029], [27.960592, -82.746126], [38.449293, -122.725981], [25.608345, -80.347617], [37.247545, -77.39301400000002], [33.989156, -118.28594], [36.768489, -119.836358], [30.464625, -91.165415], [25.971334, -80.276685], [39.980576, -75.20599399999998], [36.16799, -86.76581], [30.998237, -85.407545], [30.06098, -81.49773], [30.45164, -91.180889], [34.810904, -82.81631800000002], [28.447649, -81.401466], [25.823886, -80.242068], [33.922607, -117.654233], [40.830543, -73.851209], [25.783594, -80.30463], [39.17438, -76.72755], [40.170093, -76.60762], [29.951025, -90.097074], [29.001288, -82.00139200000002], [41.81624, -87.63011], [44.689747, -117.683857], [44.03615300000001, -95.380865], [36.833821, -76.13732399999998], [34.038990000000005, -118.43995], [33.847333, -117.876128], [36.285427, -80.818938], [27.996311, -82.384364], [41.318427, -73.717053], [29.794963, -95.487181], [33.099435, -86.738787], [33.18975, -117.361654], [34.466794, -118.325704], [33.979452, -118.282668], [45.366207, -122.585179], [32.031579, -81.11993000000002], [47.464231, -122.271748], [25.768453, -80.336301], [28.493325, -81.396765], [37.384041, -121.942412], [30.179416, -97.841214], [30.577825, -85.386915], [39.080954, -76.958616], [37.89265, -122.1599], [35.201193, -78.67154000000002], [40.386435, -75.736492], [33.186457, -117.359253], [34.06061, -118.456166], [43.02817, -76.04297], [36.15592, -86.82674], [37.132061, -77.518898], [34.858067, -82.412743], [32.953971, -80.161688], [32.236255, -110.87368899999998], [37.49555, -121.92301], [42.442414, -88.068522], [45.30494, -122.34442], [37.91406, -122.06648], [35.22407000000001, -80.88320999999998], [25.76779, -80.368875], [39.157429, -76.654862], [37.552072, -77.47760500000003], [38.491551, -121.426957], [28.62437000000001, -81.255061], [38.275113, -81.5645], [34.165414, -118.491906], [33.518224, -111.458133], [25.57934, -80.368976], [34.161392, -118.470014], [28.505158, -81.419692], [42.991011, -83.740478], [32.469053, -81.017404], [32.93176500000001, -97.094904], [37.173298, -121.003015], [29.931877000000004, -90.070526], [25.866569, -80.250737], [38.14208, -85.57751], [34.704619, -82.76055600000002], [29.913115, -81.410543], [41.189851, -73.19390899999998], [28.565425, -81.169882], [36.852273, -76.324843], [34.347649, -117.448557], [29.72116, -95.537356], [34.154241, -118.238954], [43.285605, -73.637467], [34.06885, -117.35318999999998], [28.576429, -81.45146899999997], [30.266482, -97.7563], [44.073404, -123.104199], [29.77313, -95.14541], [29.558921, -95.137918], [39.78012, -104.953109], [38.36423, -77.76566], [34.47338, -82.657958], [38.121609, -84.54060799999998], [27.381766, -82.504998], [39.87187, -75.35282], [45.104823, -93.188078], [41.86851, -71.42520999999998], [28.542504, -81.504858], [42.17622, -86.30058000000002], [34.071811, -118.122867], [33.837081, -117.300741], [44.1545, -121.3386], [29.05245, -82.168863], [37.842337, -122.485822], [40.010629, -75.20769200000002], [33.680138, -78.97614899999998], [39.166871, -94.559036], [38.016437, -120.281969], [34.841704, -119.082916], [34.209452, -82.145185], [34.148576, -118.057654], [35.726875, -78.578786], [41.678935, -88.030618], [42.912629, -85.615932], [32.95415, -111.75663], [34.832334, -82.073768], [34.040577, -118.171365], [29.849828, -95.371869], [25.768604, -80.367869], [45.279512, -93.00353], [39.865675, -84.426119], [33.220803000000004, -117.337724], [38.958157, -77.192121], [30.379029, -97.681314], [35.132721000000004, -90.481349], [40.471632, -123.705515], [33.386759999999995, -111.6214], [40.424282, -122.282524], [33.91326, -118.130654], [25.921032, -80.325032], [40.85801, -74.35173], [34.107453, -117.302636], [39.096244, -94.566021], [36.91949, -76.27594], [33.924296000000005, -117.556708], [25.626273, -80.382212], [35.147956, -80.828976], [25.712548, -80.382427], [40.291198, -75.27186], [42.72629000000001, -84.52959], [45.043614, -93.328929], [40.532964, -122.121058], [41.87098, -71.43123], [45.034889, -93.087185], [31.82157, -89.86811], [45.12812, -93.48509], [42.73549000000001, -123.37019], [41.67949, -72.16887], [36.831654, -76.195646], [25.718624, -80.294113], [44.85345, -123.357521], [36.275373, -115.046001], [42.355483, -122.901136], [39.220129, -80.303224], [42.94536, -85.7115], [32.879889, -96.786808], [47.15894, -122.40637], [35.41220900000001, -119.163242], [32.664970000000004, -117.07964], [28.52531, -81.38656800000003], [30.227873, -97.779317], [35.257258, -81.256315], [34.042774, -118.27294], [30.404169, -91.096997], [40.255124, -75.353262], [38.575646, -121.377154], [34.142986, -118.737949], [40.13114, -74.9675], [25.882806, -80.24524699999998], [41.57791, -87.54202], [33.94419, -84.50973], [25.958786, -80.191025], [34.238481, -79.936728], [35.056042, -82.11867], [41.109958, -122.327655], [29.984469, -90.03913399999998], [25.831296, -80.239112], [33.758571999999994, -84.473801], [37.475125, -76.846057], [33.99556, -117.87454], [33.98225, -118.39463], [40.593256, -111.902647], [26.622372, -80.067318], [29.736001, -95.500823], [31.79678, -106.46141], [25.869123, -80.329397], [38.984305, -77.94900600000003], [25.892143, -80.18467700000002], [35.383333, -119.002778], [28.551689, -81.396029], [36.182643, -86.735742], [33.967475, -118.233074], [32.805452, -96.793744], [43.590971, -119.970456], [33.77596, -118.07356], [26.35685, -80.11933], [41.0449, -73.76925], [38.85241, -90.86905], [40.66357, -75.38221999999998], [44.977305, -93.344036], [28.449911, -81.480513], [27.989367, -82.41416], [33.589206, -86.8641], [30.190936, -81.687907], [41.793555, -124.186381], [26.033422, -80.164116], [37.489626, -76.976784], [34.013303, -117.976737], [40.493627, -74.412646], [39.701124, -104.82885], [30.08541, -90.43113], [33.29445, -83.95486], [33.674994, -117.664335], [42.67155, -73.75545], [34.98001, -81.191263], [41.86414, -87.91763], [40.64135, -111.80848], [34.080341, -118.22606100000002], [35.22281, -80.827537], [44.43461, -92.88291], [25.598574, -80.35494399999997], [34.18424, -118.91613999999998], [42.912522, -85.58194300000002], [42.17146, -72.64376], [40.665528, -73.99640600000002], [34.058903, -118.011548], [29.924357, -90.013858], [40.746949, -73.763204], [39.740136, -104.82522], [32.673833, -96.859646], [32.227740999999995, -110.965071], [43.61858400000001, -116.209367], [29.712386, -95.15304], [33.778874, -117.89536499999998], [26.093911, -80.227373], [33.956029, -118.109051], [45.51548, -122.69315], [34.06833, -117.37947], [35.105776, -85.333548], [39.409661, -76.579638], [37.118623, -81.122509], [30.413026, -97.866311], [32.456629, -93.711456], [28.324564, -82.523498], [34.254795, -118.996734], [27.923336, -82.332785], [34.162255, -118.294011], [37.42955, -119.639235], [33.89895, -84.24793000000003], [33.647828999999994, -117.745767], [42.812841, -71.497775], [30.185882, -81.51388], [38.989223, -112.326546], [40.536164, -74.38085699999998], [34.002173, -117.351482], [45.36395, -122.60622], [35.32293, -80.94211], [45.069297, -93.285931], [30.178507, -81.74140600000001], [30.408001, -91.101837], [26.5273, -81.87114], [40.201753, -74.70948800000002], [34.287914, -118.452825], [33.974644, -118.28635], [34.201728, -118.189248], [44.97726, -122.99123], [28.336831, -81.403625], [33.770331, -118.042076], [39.512532, -77.594536], [32.734041999999995, -96.639785], [29.552096, -98.355352], [34.171515, -118.387816], [37.32121, -121.89976], [25.672005, -80.382019], [29.54701, -98.489202], [33.045383, -117.286444], [37.82751, -121.21745], [32.469485, -90.107271], [33.64508, -117.91531], [41.103276, -73.56562199999998], [25.688353, -80.320213], [33.840733, -117.249795], [37.779317, -122.170148], [39.015824, -77.118949], [34.072790000000005, -118.46672], [33.990127, -118.063818], [37.98673400000001, -121.246941], [27.048771, -82.397483], [40.475303, -78.780231], [43.48381, -73.75403], [33.814188, -118.287234], [35.039233, -120.48692], [36.540497, -119.837773], [33.803054, -118.082224], [35.753763, -78.58284], [33.733268, -81.422763], [39.206618, -121.249951], [32.865612, -96.808933], [35.021778000000005, -85.247739], [43.02561, -76.669186], [40.959459, -73.795446], [42.912634, -85.625252], [45.010557, -93.145502], [41.05793, -73.83304], [35.066516, -85.2482], [32.959874, -96.821147], [41.23185, -73.06498], [26.749531, -81.861587], [35.222994, -80.84014499999998], [35.499594, -119.112884], [39.7962, -75.11258000000002], [39.864932, -86.27277], [29.992107, -90.049154], [34.49382, -118.27995], [33.962605, -118.282702], [35.65463, -117.80355], [32.7733, -117.207309], [39.86979, -75.77256], [38.715656, -121.318074], [37.410295, -121.911106], [25.809065, -80.241147], [35.849564, -78.583549], [42.303267, -88.075908], [44.48428, -117.356552], [36.153677, -86.822537], [38.206708, -121.263457], [34.689611, -86.58010999999998], [28.615119, -81.47613100000002], [42.429004, -87.85491], [38.94914, -76.86070500000002], [48.072646, -123.656767], [40.15692, -83.0185], [34.107458, -117.302632], [39.525235, -119.696956], [37.95662, -122.05283], [40.92222, -80.377515], [38.901954, -76.942545], [40.85028, -74.47266], [41.97496, -88.20707], [40.93031, -75.09736], [39.0216, -76.859227], [30.326867, -81.56822], [25.669997, -80.44393199999998], [41.06541, -73.86451], [42.379614, -87.943096], [45.17974, -117.984098], [40.93367, -73.86286], [36.531086, -119.380071], [35.2085, -80.6701], [42.489101, -83.081075], [32.80295, -116.95811], [41.243459, -73.014061], [40.180126, -76.179521], [36.730383, -119.286681], [44.891353, -93.443514], [37.54805, -77.35896], [43.018708, -83.635641], [37.77931, -122.170146], [44.447444, -118.763632], [40.346822, -80.118775], [34.347595, -82.686035], [30.49666, -91.1635], [33.881822, -118.024835], [33.379303, -111.689113], [35.886045, -78.74323299999998], [37.769908, -77.461903], [39.718193, -75.580656], [35.28264, -80.77916], [27.338918, -82.542686], [34.134403000000006, -117.354315], [45.38268, -122.75267], [39.030523, -74.85006800000002], [35.352276, -118.999947], [30.295132, -81.634689], [25.696713, -80.16295500000003], [25.883637, -80.243199], [41.145075, -73.262125], [36.749686, -119.776371], [36.301681, -84.218761], [37.600734, -122.062512], [34.754993, -82.47702199999998], [35.110023, -90.02920999999998], [26.542968, -81.83934], [35.184257, -80.760116], [33.74265, -84.40348], [32.79135, -96.81363], [38.813548, -77.44721700000002], [26.172334, -80.903471], [39.02464000000001, -94.69139], [25.837066, -80.338101], [36.463921, -110.685578], [37.822376, -121.291798], [38.603498, -121.407311], [40.764628, -111.919394], [41.146526, -111.961298], [34.976454, -82.208349], [38.657058, -78.67016600000002], [40.138657, -76.10104399999999], [36.046625, -86.661046], [40.696781, -73.956581], [41.92871, -87.70765], [34.023606, -118.172486], [28.451531, -81.400598], [37.616637, -120.984281], [33.748205, -117.842734], [39.03061, -77.10519000000002], [33.805955, -117.358767], [39.72553, -105.10393], [25.49747, -80.44805600000002], [44.212555, -92.099541], [29.750356, -95.502464], [41.76915, -72.056397], [34.052753, -118.227205], [32.250353999999994, -110.988503], [29.976125, -90.109257], [25.621899, -80.414446], [37.94122, -122.32403], [32.493363, -93.751747], [36.93902, -81.15398], [37.54413, -77.37008], [30.440587, -84.31697700000002], [35.924662, -80.58739399999997], [30.439049, -91.182242], [39.535843, -123.415433], [34.120459999999994, -117.73135], [40.83734000000001, -73.88006999999998], [25.920275, -80.211169], [28.986651, -82.351646], [32.736043, -117.112305], [26.172233, -80.156968], [33.986670000000004, -117.906247], [25.656456, -80.408637], [30.277843, -97.73028], [40.666583, -74.38283100000002], [36.130706, -119.071783], [35.571353, -80.63631], [40.74328, -73.77561999999998], [35.83872, -78.675063], [30.453198, -97.776404], [24.954196, -80.58313000000003], [44.970291, -93.331228], [33.47117, -112.063971], [38.679825, -121.339391], [30.17248, -83.58646], [39.30031, -121.37274], [43.650537, -84.19998000000002], [33.70644, -117.779], [29.74211, -95.3643], [32.35751, -90.23837], [33.868821000000004, -98.499817], [25.747956, -80.323638], [32.221521, -110.87529], [40.391501, -78.858046], [37.60813, -120.993552], [33.05196, -117.07247], [37.702516, -122.016939], [37.00186400000001, -121.531957], [41.83849, -87.9193], [46.08532, -112.789099], [42.484101, -82.91745], [39.172815, -77.245141], [41.736659, -72.664591], [42.477103, -83.094205], [38.038758, -78.825577], [39.807872, -121.912053], [27.712407, -82.351957], [36.01728, -83.92246999999998], [43.532219, -89.891634], [47.64341, -122.30838], [45.497392, -122.57874], [42.320511, -87.960889], [45.260561, -111.303684], [32.65952, -96.8229], [37.201273, -93.334478], [30.345644, -82.95150799999998], [26.436756, -81.770662], [44.160264, -121.258839], [32.776540000000004, -96.784003], [39.42497, -76.448475], [34.0359, -118.03202], [37.646187, -120.66583500000002], [33.032371999999995, -96.707317], [25.74541, -80.3197], [33.462671, -84.210323], [38.286195, -122.107138], [40.964123, -102.251719], [40.472121, -74.449511], [35.328588, -118.807517], [33.445909, -111.855439], [40.072958, -76.308275], [33.894748, -117.88069], [40.74851, -111.90829], [37.924486, -77.46279100000002], [30.446149, -91.237901], [28.602685, -81.722065], [41.772683, -124.200444], [35.757907, -78.600364], [38.50066, -121.51766], [28.364181, -82.692973], [29.15221, -81.083403], [29.712825, -95.327316], [40.008977, -75.068045], [37.99415, -122.06982], [41.735196, -72.742942], [27.447751, -82.573305], [42.6742, -73.72626], [37.62951500000001, -77.536636], [40.738741, -78.533951], [30.167496000000003, -85.788977], [40.80244, -73.43782], [39.957997, -74.918494], [41.59589, -93.62148], [34.150861, -118.089948], [32.780427, -96.796569], [33.523853, -80.886215], [34.066659, -119.003049], [38.189041, -120.824287], [44.966032, -93.259895], [43.165882, -83.499836], [33.09545, -117.08611], [34.06774, -117.83548], [34.023706, -118.436611], [37.884205, -122.516785], [40.342917, -78.403663], [37.940651, -121.739941], [41.13946, -112.02606000000002], [34.03474, -118.34275], [28.69334000000001, -81.38875999999998], [44.395204, -122.16903], [38.751819, -77.267525], [35.213198, -80.860136], [25.767491, -80.368853], [34.775537, -120.496104], [32.983293, -96.828721], [32.452937, -111.022984], [47.017745, -122.72724], [38.877014, -77.274677], [34.438195, -119.789307], [38.157452, -121.261614], [37.369945, -121.843022], [36.603611, -121.695556], [25.845269, -80.26315799999998], [33.959903000000004, -118.370091], [30.393121, -97.7509], [33.760548, -84.493565], [39.962114, -121.280211], [43.176072, -77.639457], [44.8732, -93.16488], [40.66241, -74.43109], [34.035915, -118.323628], [37.73191, -122.415751], [45.2902, -121.69288], [45.80978, -119.949427], [36.977031, -77.500077], [45.15324, -122.87871], [25.787337, -80.19726899999998], [39.0103, -84.63495], [35.29725900000001, -80.850545], [37.54160200000001, -77.38998000000002], [41.649426, -93.608705], [34.024537, -118.23924], [36.05057, -119.944712], [41.519361, -74.018315], [43.747955, -96.431068], [25.733711, -80.252875], [40.030731, -74.183426], [36.736296, -76.10065300000002], [32.9288, -117.2401], [29.80177, -95.33963], [30.355605, -97.683892], [30.10545, -95.43545], [40.85197, -73.87135], [44.88489000000001, -93.41037], [34.168067, -118.102705], [35.396514, -118.986009], [45.12509, -93.38932], [30.53376, -87.29054000000002], [44.69763, -93.28817], [28.067193, -82.73463100000002], [40.787891, -74.049214], [41.566513, -93.858763], [36.843644, -76.135632], [30.418812, -91.154247], [40.564847, -75.976782], [47.54659, -111.45532], [45.30640800000001, -93.573261], [28.381291, -81.50146], [30.266836, -97.756107], [29.497765, -98.48343], [34.0165, -118.159527], [45.54160200000001, -122.47727], [33.519834, -80.791193], [26.580758000000003, -80.0691], [38.058421, -121.151219], [35.070408, -80.773297], [47.15797, -122.35176], [37.80906, -122.19579], [38.63478, -90.38997], [28.400985, -80.763287], [41.040804, -73.578586], [38.983011, -77.164725], [40.040843, -77.493829], [40.35457, -76.971369], [33.790209999999995, -117.084321], [35.96434, -119.268379], [30.080767, -97.735282], [34.996765, -90.002349], [40.932573, -76.01616700000002], [25.92478, -80.154122], [34.03305, -118.13004], [34.03338, -118.114625], [42.83620300000001, -70.90988], [40.112688, -75.122963], [39.728547, -120.038237], [45.981355, -112.48591299999998], [28.6393, -81.32221], [38.01181, -122.27226], [37.23817800000001, -76.63068], [36.996903, -120.103062], [34.14676, -118.27895], [41.81333, -71.50929000000002], [35.258709, -80.80219100000002], [40.068528, -76.303264], [44.08033, -93.5655], [34.065437, -117.997873], [40.8398, -74.003883], [25.873685, -80.171309], [30.09009600000001, -90.4476], [28.451938, -81.400468], [43.643842, -116.277762], [33.81225, -118.28748], [28.194645, -82.390025], [34.142933, -118.021097], [45.54361, -122.87179], [36.988032, -121.984792], [34.864338000000004, -118.169035], [42.68977, -83.24898], [26.546544, -81.84304399999998], [30.635201, -84.417135], [38.845, -77.11487], [40.699553, -99.198382], [25.581036, -80.393982], [25.928176, -80.196329], [36.576439, -119.736951], [44.86107, -93.16702], [25.926862, -80.188198], [43.04193, -76.17163000000002], [34.18463, -118.896628], [37.180938, -93.358524], [33.84382, -118.267623], [38.85198, -77.07536], [38.952655, -76.879078], [35.309033, -80.802841], [40.683759, -95.818787], [38.93612, -77.18328000000002], [33.872608, -117.348801], [40.468667, -123.801443], [25.760882, -80.39381800000002], [34.020596999999995, -118.19389], [26.008238, -80.16659200000002], [39.105609, -94.48608], [39.73999, -104.8101], [44.78918, -95.17891], [44.01896, -123.87003], [38.691279, -77.256475], [47.59379000000001, -122.33586], [34.300555, -117.458712], [43.01389, -85.6759], [41.50606, -112.01588], [37.52562, -120.88775], [45.09567, -93.449078], [38.893591, -76.061699], [34.135546999999995, -117.984268], [33.7642, -84.38206], [40.817744, -74.007963], [25.641617, -80.33507900000002], [34.084719, -117.300848], [35.04442, -85.30820600000001], [34.030966, -86.452917], [43.68293, -88.4421], [34.970240000000004, -81.053476], [34.010511, -117.823493], [37.520316, -121.983808], [29.732812, -95.501165], [40.74359000000001, -73.27969], [25.968965, -80.351911], [30.1906, -81.556945], [26.674625, -81.629424], [42.38346, -83.066], [38.895669, -121.106399], [28.50417, -81.24502], [37.808622, -77.930799], [41.729095, -72.65864300000001], [33.183163, -117.294856], [41.23126, -96.08688], [47.32283, -122.24517], [46.314551, -92.827757], [39.398227, -76.664754], [33.474940000000004, -112.11297], [27.98693, -82.326554], [30.243113, -81.587638], [44.292692, -92.50133], [45.373058, -122.723646], [40.659371, -75.391037], [31.96266, -83.75209], [32.921416, -117.135665], [35.94601, -83.996282], [38.20031, -81.512596], [40.753456, -74.210771], [41.93991, -78.145891], [41.36574, -72.92505], [27.337764, -82.464917], [40.851486, -73.952111], [40.646883, -75.413985], [35.16259, -80.73958], [44.957545, -93.090611], [40.850179, -73.944861], [34.065739, -117.507127], [25.704165, -80.291534], [29.990733, -90.067087], [25.803974, -80.359565], [37.757658, -122.211239], [45.069481, -93.293681], [36.530909, -120.097876], [40.610476, -122.146524], [39.23653, -76.66767], [40.831598, -73.393792], [40.062002, -76.21119499999998], [25.89515, -80.20965], [27.793708, -82.679562], [37.398909, -77.424355], [44.15962800000001, -121.259305], [33.097713, -80.30734], [37.492979, -121.082843], [33.74414, -84.387527], [41.14108, -83.65902], [34.00416, -117.35017], [33.838092, -80.652252], [29.449240000000003, -95.99415], [40.76066, -111.89119], [27.317073, -82.52967], [33.509427, -112.160164], [37.041614, -121.59914], [35.26125, -80.8369], [28.453313, -81.095098], [42.15995, -87.87441], [32.133923, -110.96451100000002], [34.434942, -119.802786], [28.444627, -81.470603], [38.779375, -90.365294], [30.111602, -97.749183], [34.05125, -118.00588], [35.901559000000006, -78.55820899999998], [44.800246, -122.745019], [34.087397, -117.67549], [34.035848, -117.322536], [33.91063, -117.449469], [41.0195, -73.628473], [30.406722, -91.100259], [36.831322, -121.435172], [27.937887, -82.265035], [43.26318, -124.2655], [43.399591, -73.721098], [25.863659, -80.25061], [38.364719, -81.68056999999997], [37.61365, -77.49675], [37.406123, -122.012331], [39.181489, -84.90911], [39.669338, -75.600837], [33.85605, -118.017108], [35.01677, -81.89926], [33.722137, -117.719482], [37.56061, -122.0117], [33.68554, -85.13362], [34.151978, -118.124391], [26.108394, -80.25030799999998], [36.788015, -76.124931], [25.59543, -80.41334499999998], [40.536808, -111.893149], [29.396098, -98.501905], [33.84215, -85.20881], [33.807499, -81.004933], [34.978851, -82.057897], [45.31260200000001, -93.827658], [39.576199, -84.25383199999997], [34.490536, -118.134173], [39.791083, -84.225183], [45.50049, -122.674238], [29.623997, -95.28547], [38.63443, -121.210405], [27.543318, -82.564768], [33.661241, -114.599568], [36.97641, -121.9072], [26.520876, -81.891145], [40.55019, -74.315311], [40.733517, -73.297395], [33.82052, -118.193246], [48.060529, -122.81998], [38.587776, -121.286877], [39.628082, -77.77456600000002], [35.720949, -120.879434], [36.002229, -83.960212], [34.8522, -82.45165], [34.431808000000004, -84.056536], [37.36405900000001, -121.902029], [27.833882, -82.680611], [33.386634, -111.743201], [41.930061, -78.648666], [30.368434000000004, -97.788989], [34.060844, -118.251047], [34.070818, -117.353001], [47.87967, -122.23621], [34.037332, -118.170176], [32.73296, -97.37998], [27.949968, -82.35417], [38.975064, -77.622834], [35.792041, -78.58304100000002], [34.30324, -118.47977], [36.85567, -76.1959], [32.779709999999994, -97.27762], [41.22571, -95.94792], [40.760232, -73.85721], [30.441563, -97.77299], [35.029459, -85.287886], [38.13801, -85.68647], [40.275388, -75.259665], [30.62382, -81.65165999999998], [38.09244, -122.23407], [41.74277100000001, -72.662625], [35.445427, -80.99789200000002], [33.535422, -84.262862], [33.175975, -117.351762], [30.247798, -97.739631], [30.017341, -90.04919100000002], [37.082945, -76.452584], [40.905317, -123.579176], [37.85272, -122.29991], [28.604366, -81.30752], [41.227043, -73.425203], [34.024108, -118.270539], [28.568395, -81.28406899999997], [40.118395, -123.828816], [33.873616, -118.235956], [33.953491, -117.398101], [29.545719, -98.369055], [34.076012, -118.231573], [45.306442, -93.609573], [28.088128, -82.459541], [36.602207, -119.65756], [32.801547, -80.771484], [35.20437000000001, -80.847894], [40.704324, -73.994502], [40.25422, -74.080433], [40.78226, -73.433], [45.075691, -93.052428], [25.764879, -80.352901], [44.79724, -123.03287], [38.915834, -77.54585], [32.901367, -96.719021], [38.380591, -121.366318], [35.035175, -104.400898], [33.87081, -117.70334], [33.935228, -118.09248], [26.304454, -80.16958199999998], [39.28989, -76.50421], [38.789416, -121.281577], [40.337272, -75.967324], [40.956806, -75.116493], [33.961572, -118.23189], [27.123969, -82.384496], [32.686693, -117.158203], [39.770025, -105.813349], [40.843702, -73.895577], [29.767241, -95.372002], [40.920174, -124.095348], [42.326639, -83.04969399999997], [39.09663, -94.58807], [35.798417, -78.560485], [45.26869, -93.0086], [34.103075, -117.535804], [34.14645, -118.76536000000002], [32.27425, -86.17299], [42.554672, -71.138824], [25.911356, -80.324511], [40.696617, -111.94293799999998], [39.131509, -76.642953], [28.576062, -81.235926], [38.758272, -77.463536], [42.859681, -71.49967], [35.69459000000001, -78.57434], [45.5739, -122.73045], [39.94516, -86.35133], [37.6011, -77.49085], [35.841095, -78.572609], [27.967747, -82.64241], [33.864789, -81.19882199999998], [32.83504, -96.63243], [35.26991, -118.682405], [34.005446, -117.413674], [39.670118, -77.735513], [37.97277, -122.3195], [36.106856, -119.554257], [30.215399, -97.797745], [38.887744, -120.026323], [45.144179, -122.729368], [37.899152, -78.047379], [34.170377, -79.426961], [33.592975, -117.114048], [39.219649, -121.059153], [38.172172, -122.196337], [35.25824, -80.84135], [44.82743, -93.17014], [38.560008, -122.234932], [25.874851, -80.388067], [35.857797, -78.544381], [33.745556, -84.34921], [32.946803, -96.768987], [32.696463, -117.13168], [33.67283, -112.0238], [34.023743, -117.74442], [33.189458, -117.361428], [34.01685, -117.98548999999998], [30.337854, -81.668876], [37.942668, -120.717376], [40.193089, -75.544128], [42.962726, -85.629859], [35.299756, -118.914368], [33.377184, -79.156039], [44.04438, -70.24811], [39.10158, -84.52348], [34.101738, -80.826574], [34.596053000000005, -82.631116], [40.549263, -111.938693], [33.872759, -118.202465], [34.120670000000004, -117.87161], [44.95313, -92.95882], [33.067046999999995, -97.016644], [37.822535, -121.998623], [30.200676, -97.807257], [28.172046, -80.670475], [42.742193, -73.650812], [29.595787, -95.195017], [34.067265, -117.801837], [30.202604, -81.559166], [32.717715000000005, -96.648369], [39.87233, -75.348974], [33.555968, -80.82168399999998], [38.830101, -77.733726], [33.200393, -117.12731399999998], [38.663854, -121.225656], [39.139022, -94.498631], [37.31486, -121.91093], [33.91435, -117.88273], [45.431288, -118.360744], [30.264619, -82.100175], [37.50862, -77.46342], [25.656381, -80.41443199999998], [41.414397, -122.381887], [28.547129, -81.149232], [41.370487, -81.064298], [40.106413, -74.78360699999998], [33.60475, -117.69049], [34.06743, -117.42777], [32.681922, -96.85288], [38.09512, -120.471744], [39.674918, -76.92976999999998], [41.652138, -73.079465], [40.61006, -75.52849], [37.647947, -77.593377], [34.0276, -118.21184], [38.060889, -122.225017], [43.095418, -77.757653], [47.034284, -123.09687], [32.785555, -97.059188], [34.416121000000004, -119.691849], [40.32933, -111.73707], [33.911229, -118.171158], [30.200138, -97.797839], [46.159671, -123.83964], [33.66961, -117.82273700000002], [37.769464, -122.413199], [40.767311, -73.69726], [38.346117, -77.0622], [25.970625, -80.301084], [33.85931, -118.29042], [47.608562, -122.339809], [33.619646, -117.922939], [33.858693, -117.984719], [36.753438, -119.781959], [32.192763, -110.979477], [40.59109, -73.9651], [30.443, -91.061016], [43.11101, -77.55320999999998], [27.803572, -82.35280999999998], [32.695048, -117.102382], [33.53846, -112.15149], [33.46582, -112.112855], [33.189133, -117.239456], [35.804734, -80.511794], [40.003267, -75.222139], [40.00617, -75.19345], [33.771021000000005, -117.992081], [43.12828, -75.547428], [37.361276, -121.877349], [25.89281, -80.20962], [35.245536, -80.936339], [28.482225, -81.33086], [35.123678000000005, -80.918825], [34.122043, -117.99499099999998], [42.979547, -83.688864], [36.09827, -95.85953], [41.327658, -73.689938], [25.588404, -80.360304], [41.23519, -85.860479], [44.414451, -121.697644], [25.733425, -80.30481999999998], [44.126345, -124.124264], [25.810032, -80.33849599999998], [36.605599, -118.063325], [42.66109, -71.19785999999998], [37.17349, -121.01325], [45.15277800000001, -120.68748], [28.442505, -81.365963], [37.75059, -122.15155], [28.260773, -81.612185], [38.05963300000001, -77.505036], [39.53647, -119.79716100000002], [44.43655, -121.93893], [25.932617, -80.121894], [39.03845, -94.67954], [35.052501, -120.498521], [33.886481, -118.03323600000002], [33.742883, -117.281007], [39.841942, -75.400278], [35.642607, -78.839007], [39.452537, -76.643017], [30.519193, -87.309647], [29.930117, -90.116568], [42.27227, -122.80564], [41.318485, -73.99108299999997], [38.653025, -121.070615], [25.888462, -80.163954], [37.99212, -121.286689], [32.70939, -117.14753], [33.862817, -118.199257], [36.04862, -79.86801899999998], [35.78369, -78.88620999999998], [29.619208, -95.493218], [42.4993, -121.87921], [36.055375, -86.674786], [38.55615, -121.44319], [30.336631, -97.701855], [41.03674, -73.67549], [27.943683, -82.334321], [33.138553, -117.141141], [34.705862, -82.22886], [37.367692, -122.404894], [41.054, -73.52707], [38.63198, -121.50414], [44.919683, -93.27198], [40.225331, -77.15511], [33.989156, -118.28594], [25.778655, -80.265541], [33.454731, -86.74600600000002], [44.9055, -93.88996], [35.27299, -80.837], [28.447931, -81.470943], [33.545218, -86.650918], [33.836240000000004, -117.71763], [38.391391, -78.241957], [32.70613, -96.924805], [31.772, -106.33961], [40.73985, -73.81833], [48.471012, -108.758194], [41.688366, -86.81276899999996], [30.485659, -86.416089], [27.015691, -82.045823], [33.313934, -117.230103], [38.359639, -122.525495], [40.69692, -74.21943], [39.32286, -76.53018], [28.35741, -81.49181], [38.945127, -76.770969], [38.013027, -122.174566], [35.10436, -89.87003], [27.484071000000004, -82.604005], [39.594265, -76.671599], [40.71953, -111.86494], [34.149958000000005, -118.225165], [33.44983, -112.3583], [29.16855, -81.08292], [38.23609, -85.62576], [47.752989, -92.651322], [38.991081, -77.27386800000002], [39.34426, -77.260738], [44.69694000000001, -94.37598], [41.40521, -74.34263], [42.357047, -88.16919399999998], [46.549941, -95.974487], [25.77184, -80.38561999999997], [37.897542, -122.095768], [38.940293, -94.750071], [34.01882, -117.340199], [28.018982, -82.39349], [43.231668, -77.73357299999998], [28.481577, -81.4587], [29.736832, -95.570634], [28.01208, -82.27771], [42.813697, -73.97529899999998], [45.711933, -121.516288], [36.075355, -95.886367], [35.83522100000001, -78.343512], [41.507889, -111.945429], [42.755602, -84.876613], [27.455016, -80.429743], [25.764473, -80.26217199999998], [32.296603999999995, -80.935816], [27.472492, -82.562936], [34.213552, -77.98383299999998], [33.407398, -111.95675], [32.877894, -117.17026], [37.544585, -77.42813199999998], [36.90126, -119.997765], [25.7609, -80.48133], [38.941179, -109.816364], [40.55536, -74.446], [44.341888, -118.947901], [33.189189, -117.277193], [34.043132, -118.217178], [33.187494, -117.236669], [36.157153, -86.78099], [47.712711, -116.924844], [33.58486, -79.02731999999997], [34.071819, -118.093207], [42.48765, -83.23294], [37.410066, -121.879205], [34.118754, -117.841132], [30.42923, -91.057617], [28.53627, -81.252579], [43.125423, -75.243667], [39.145084, -120.224545], [44.776036, -93.540812], [25.847341, -80.207629], [32.176994, -110.944369], [36.16838900000001, -92.22352], [37.82415, -122.317352], [38.502136, -121.789357], [39.77496, -86.14216], [34.245869, -111.32283], [25.686674, -80.377385], [45.432946, -122.577971], [40.383735, -77.996352], [38.3252, -122.274083], [33.88179, -117.62106], [35.34762, -119.003074], [40.71, -74.00981999999998], [33.058609999999994, -117.07042], [34.068079, -117.400509], [35.060928999999994, -80.58838100000001], [41.56822, -87.35028], [40.139741, -76.300037], [34.035498, -118.221725], [36.407706, -83.464386], [34.023720000000004, -81.130814], [32.775275, -97.287382], [40.495508, -77.113691], [28.595792, -81.753312], [27.960595, -82.72573299999998], [27.19621, -82.4901], [33.883563, -117.532199], [40.060494, -75.860073], [39.141083, -121.071186], [39.01056, -77.040934], [34.713117, -120.489189], [25.808418, -80.232017], [33.609284, -117.68599], [39.72823, -105.01465], [29.969128, -90.05025699999999], [28.820894, -81.91300799999998], [40.089315, -76.380461], [40.830182, -73.849962], [29.976385, -90.103091], [32.74985, -97.284065], [45.451032, -94.506768], [37.640953, -121.405358], [25.937575, -80.19639000000002], [28.423201, -81.404779], [35.402017, -82.51258100000003], [33.56365, -117.825011], [39.927513, -86.26631400000002], [30.339163, -87.347117], [30.416734, -91.143901], [38.433645, -82.03400500000002], [25.867393, -80.32312900000002], [39.25785, -84.80301], [28.381019, -81.50718], [27.897618, -81.599689], [47.09704, -122.44828], [35.8931, -78.55939000000002], [37.418788, -121.881492], [37.62287, -122.4851], [28.63276500000001, -81.41287700000002], [34.830318, -82.302192], [40.790387, -73.366923], [38.04013, -121.7516], [45.51371, -119.63185], [34.228747, -117.41518700000002], [32.77282, -117.20749], [32.80318, -116.94653999999998], [37.895613, -122.112077], [39.416167, -104.87055], [38.61909, -90.28509], [39.944992, -76.214342], [42.066403, -88.286186], [37.31855, -121.8899], [33.81221, -78.7643], [25.898796, -80.199489], [35.408611, -119.020146], [40.19666, -110.926643], [34.037144, -118.300367], [26.49424500000001, -81.933627], [28.02259, -82.45127], [36.073931, -86.925756], [45.671801, -122.664746], [38.650951, -77.294422], [37.698124, -121.940776], [43.179284, -77.809005], [44.22576, -93.27736], [39.802168, -86.089221], [34.04365, -118.44373], [37.739635, -121.38001], [42.484121, -83.084843], [33.454582, -111.890137], [33.87288, -118.28971], [27.430716, -81.387176], [34.029056, -118.21331], [36.118219, -86.700222], [37.478617, -79.787339], [36.937549, -121.771363], [40.046115, -80.64496700000002], [46.155056, -93.753947], [34.021751, -117.550766], [36.01558, -78.35779000000002], [31.777688, -106.422219], [33.385469, -111.926581], [39.22002, -78.13193000000003], [45.529693, -122.665303], [38.225322, -121.555307], [34.067399, -117.571285], [39.09878, -84.50843], [37.34267, -121.84801000000002], [34.042952, -118.272653], [33.865771, -117.924268], [34.030141, -118.409453], [44.28562, -120.88858700000002], [25.67213, -80.37835799999998], [38.244255, -77.503792], [34.757426, -82.475706], [44.768117, -94.091087], [34.864971999999995, -120.347703], [39.53545, -77.60622], [25.94267300000001, -80.203561], [26.47101, -80.174456], [30.364875, -81.668702], [35.695255, -78.578757], [25.938478, -80.121573], [38.524881, -121.465881], [35.194957, -80.793532], [41.68468, -83.56822], [33.836131, -117.532371], [37.551215, -77.428067], [33.869007, -117.7536], [26.082246, -80.168842], [28.194598, -82.521085], [33.516894, -117.664293], [33.684125, -117.885508], [43.075958, -83.670509], [34.505713, -117.274285], [37.915427, -122.326949], [45.4536, -122.72111], [30.126368, -95.443263], [35.093965000000004, -106.559558], [40.60529, -86.86861], [33.903576, -84.275362], [32.98622, -96.93532], [38.569124, -122.83012], [42.30272, -123.25588], [30.095097, -90.928224], [33.858148, -117.979519], [37.878658, -122.514874], [33.81547, -118.18503], [48.094738, -118.20233600000002], [38.775024, -77.688152], [37.808366, -122.24151], [34.031085, -81.106891], [34.027987, -117.933063], [27.977290000000004, -82.72968], [39.15558, -76.74431], [42.65738, -73.74157], [33.763869, -117.831117], [28.763986, -82.551135], [37.680451, -122.489994], [40.714355, -112.241274], [34.034345, -118.081331], [27.956236, -82.483316], [42.257672, -87.841649], [34.614973, -117.843684], [33.65772, -117.754794], [34.081337, -117.418273], [34.020212, -117.814998], [45.555651, -122.67851], [40.01754, -75.66688], [26.47272, -80.09203000000002], [32.478203, -93.750328], [41.514061, -93.670881], [26.333428, -81.806251], [40.82708, -74.13271999999998], [26.596855, -81.884109], [29.79547100000001, -95.316868], [39.100098, -94.669641], [37.537075, -120.893093], [33.756211, -117.83151200000002], [27.070312, -80.244777], [42.243576, -87.871624], [44.09802, -94.27634], [42.70927800000001, -122.586039], [33.723332, -78.934187], [28.03782, -82.45501], [32.67624, -97.24047], [30.385389, -97.645535], [26.304455, -80.11948199999998], [29.602998, -98.470083], [31.791284, -106.268232], [39.00451, -78.31342099999998], [34.645722, -118.154686], [33.582211, -113.442474], [38.625097, -121.51721299999998], [38.763788, -76.882678], [33.81095, -86.825112], [34.418975, -119.693244], [25.937009, -80.324073], [34.830946000000004, -82.502794], [41.142114, -73.275257], [36.99597, -122.01961], [36.101711, -115.136968], [38.681901, -77.229567], [41.255775, -72.99600699999998], [35.279631, -80.79356999999997], [33.9162, -118.23115], [25.879999, -80.243026], [33.42926, -112.082835], [40.104069, -76.254048], [25.92324, -80.155778], [25.578554, -80.36949399999997], [32.688885, -96.633971], [42.40054, -83.07091], [34.42067, -119.647647], [32.872177, -117.197352], [27.777254, -82.680821], [39.933, -74.96306], [30.40845, -81.75215], [41.19066, -96.02383], [39.39294, -76.60448000000002], [33.89482, -118.27865], [34.053405, -118.258199], [28.067372, -82.745603], [34.15338, -118.36461], [28.028959000000004, -82.637229], [28.597421, -81.416717], [40.6396, -104.33257], [43.04763, -123.66119], [37.31048, -121.94047], [44.781249, -93.475745], [34.669429, -118.764642], [34.172035, -118.53247], [34.343815, -119.417824], [38.95621, -77.53931], [45.010672, -93.106058], [35.426298, -119.021165], [34.22534, -83.866051], [25.93019, -80.13114200000003], [29.57368300000001, -95.137834], [39.131678, -94.67662], [33.104279, -84.34269], [38.193057, -81.50058299999998], [48.529883, -122.088199], [45.006359, -93.204549], [44.78532, -93.60034], [34.223389000000005, -119.134193], [45.594481, -118.646141], [33.672396, -117.755479], [25.889492, -80.162572], [34.806675, -82.222886], [47.371237, -122.75871], [42.024109, -121.552393], [37.46352, -77.4276], [34.769026000000004, -82.03072], [40.45156400000001, -76.51225600000002], [33.939328, -117.221763], [28.55292, -81.41396], [38.056426, -122.148154], [37.417212, -120.51282], [44.82413, -123.01755], [34.274822, -79.693075], [36.17607, -115.1681], [25.839958, -80.316328], [28.577634000000003, -81.46774], [42.00539000000001, -88.14471999999998], [28.834615000000003, -82.04129499999998], [42.27234, -85.43435], [41.440304, -73.24870899999998], [39.53305200000001, -77.595187], [34.120387, -82.886403], [36.056188, -79.12599499999997], [34.770986, -92.396124], [28.574142, -81.372869], [41.078904, -78.497937], [35.058104, -119.313666], [28.416491, -81.42147], [36.662872, -86.558391], [40.051249, -78.99439100000002], [30.466247, -91.13439], [41.65109, -93.58183], [47.52858300000001, -122.392722], [33.923716, -118.254325], [39.40325, -77.43008], [33.988138, -118.360642], [45.695542, -121.347812], [30.304047, -97.65318], [38.68758, -90.25023], [36.370865, -119.394714], [39.79983, -105.02965], [42.953362, -85.678579], [39.04584000000001, -74.85145], [38.64315, -121.43413], [33.007490000000004, -80.66854000000002], [25.880138, -80.355719], [34.043818, -117.964735], [28.01216, -82.70903], [28.55374, -81.28595], [34.154919, -118.319593], [42.750712, -73.71623100000002], [37.672746, -121.456642], [40.68932, -111.90303], [35.914059, -78.801891], [44.891826, -93.246853], [34.272386, -119.28298999999998], [35.887434000000006, -119.266855], [33.945471999999995, -118.368281], [30.254475, -97.747883], [33.16528, -97.07863], [38.676355, -121.42911200000002], [35.132431, -80.838258], [41.113804, -73.804896], [44.9724, -93.42053], [37.686416, -121.057222], [38.812732, -77.548862], [25.858818, -80.38750999999998], [38.501335, -122.431766], [38.22271, -85.50075], [35.067505, -94.254651], [38.875748, -76.99107], [38.431023, -81.530689], [41.39250300000001, -87.324646], [28.543626, -81.310673], [45.76232, -93.63879], [32.946506, -117.112241], [30.074776, -95.181061], [30.369136, -97.531767], [44.954928, -93.189135], [37.335749, -77.051077], [34.179271, -117.439867], [25.94267300000001, -80.203561], [45.530101, -122.614535], [40.198491, -77.157143], [33.889, -117.5124], [34.09077, -118.30657], [44.300457, -121.17303400000002], [30.439288, -97.668627], [42.595148, -82.857107], [34.558714, -118.675742], [35.532499, -118.63081], [41.785345, -77.31020600000002], [39.93727, -74.96967], [29.48749, -98.48273], [34.108249, -117.184996], [34.131048, -80.876674], [28.052255, -82.454778], [25.699599, -80.382101], [26.542576, -81.83935799999998], [38.365217, -122.781237], [40.73727, -73.5964], [44.92189000000001, -93.46791], [34.225024, -118.248678], [40.381307, -123.014439], [32.749588, -96.921852], [27.847317, -82.81783399999998], [33.694865, -111.915803], [34.040634000000004, -117.9429], [36.34936, -86.7178], [28.121062, -81.931067], [35.964332, -119.143118], [32.79293, -96.79281], [34.17077800000001, -118.605709], [33.663107000000004, -117.89746], [33.97698, -118.060822], [39.8899, -86.04876], [46.9182, -123.71942], [38.2226, -122.253306], [28.269033, -81.605654], [30.0299, -89.994028], [36.768511, -76.25206899999998], [39.09204, -77.583669], [33.765953, -117.933779], [39.02101, -76.418776], [42.43041, -122.170291], [42.36376, -87.82991], [36.829429, -76.314449], [34.020495000000004, -118.194105], [28.633324, -81.38756500000002], [42.26892, -84.48156999999998], [34.51327, -93.28334], [34.11697, -117.20042]],\n",
              "                {\n",
              "                    minOpacity: 0.5,\n",
              "                    maxZoom: 18,\n",
              "                    max: 1.0,\n",
              "                    radius: 25,\n",
              "                    blur: 15,\n",
              "                    gradient: null\n",
              "                    })\n",
              "                .addTo(map_89d8e7b4e33ecb9400253fb632c98f04);\n",
              "        \n",
              "&lt;/script&gt;\" style=\"position:absolute;width:100%;height:100%;left:0;top:0;border:none !important;\" allowfullscreen webkitallowfullscreen mozallowfullscreen></iframe></div></div>"
            ]
          },
          "metadata": {},
          "execution_count": 45
        }
      ]
    },
    {
      "cell_type": "code",
      "source": [
        ""
      ],
      "metadata": {
        "id": "j6QlYQJtRUe7"
      },
      "execution_count": 45,
      "outputs": []
    },
    {
      "cell_type": "markdown",
      "source": [
        "###Summary and Conclusion\n",
        "Insights:\n",
        "\n",
        "1.No data from New York\n",
        "\n",
        "2.The number of accidents per city decreases exponentially\n",
        "\n",
        "3.Less than 5% of cities have more than 1000 yearly accidents.\n",
        "\n",
        "4.Over 1200 cities have reported just one accident (need to investigate)"
      ],
      "metadata": {
        "id": "6Vfbu4ypRrRS"
      }
    },
    {
      "cell_type": "code",
      "source": [
        "import jovian"
      ],
      "metadata": {
        "id": "FYC0B8c0RUOv"
      },
      "execution_count": 46,
      "outputs": []
    },
    {
      "cell_type": "code",
      "source": [
        "jovian.commit()"
      ],
      "metadata": {
        "colab": {
          "base_uri": "https://localhost:8080/",
          "height": 87
        },
        "id": "iKrkLEkdSKAW",
        "outputId": "182fb2a3-9e73-428f-86ac-c66d5016e94e"
      },
      "execution_count": 53,
      "outputs": [
        {
          "output_type": "stream",
          "name": "stdout",
          "text": [
            "[jovian] Detected Colab notebook...\u001b[0m\n",
            "[jovian] Uploading colab notebook to Jovian...\u001b[0m\n",
            "Committed successfully! https://jovian.ai/asvsav991/us-accidents-analysis\n"
          ]
        },
        {
          "output_type": "execute_result",
          "data": {
            "text/plain": [
              "'https://jovian.ai/asvsav991/us-accidents-analysis'"
            ],
            "application/vnd.google.colaboratory.intrinsic+json": {
              "type": "string"
            }
          },
          "metadata": {},
          "execution_count": 53
        }
      ]
    },
    {
      "cell_type": "code",
      "source": [
        ""
      ],
      "metadata": {
        "id": "Bm-ULs1FSJz-"
      },
      "execution_count": 47,
      "outputs": []
    },
    {
      "cell_type": "code",
      "source": [
        ""
      ],
      "metadata": {
        "id": "5mE_mCVVSJke"
      },
      "execution_count": 47,
      "outputs": []
    }
  ],
  "metadata": {
    "kernelspec": {
      "display_name": "Python 3",
      "language": "python",
      "name": "python3"
    },
    "language_info": {
      "codemirror_mode": {
        "name": "ipython",
        "version": 3
      },
      "file_extension": ".py",
      "mimetype": "text/x-python",
      "name": "python",
      "nbconvert_exporter": "python",
      "pygments_lexer": "ipython3",
      "version": "3.7.6"
    },
    "colab": {
      "name": "us-accidents-analysis.ipynb",
      "provenance": [],
      "collapsed_sections": []
    }
  },
  "nbformat": 4,
  "nbformat_minor": 0
}